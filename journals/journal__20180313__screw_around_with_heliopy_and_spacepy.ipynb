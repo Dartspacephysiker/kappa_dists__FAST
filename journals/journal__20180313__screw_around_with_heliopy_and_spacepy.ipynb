{
 "cells": [
  {
   "cell_type": "code",
   "execution_count": 1,
   "metadata": {
    "autoscroll": false,
    "collapsed": false,
    "ein.tags": "worksheet-0",
    "slideshow": {
     "slide_type": "-"
    }
   },
   "outputs": [
    {
     "data": {
      "text/plain": [
       "[<matplotlib.lines.Line2D at 0x7f43cc890400>]"
      ]
     },
     "execution_count": 1,
     "metadata": {},
     "output_type": "execute_result"
    }
   ],
   "source": [
    "# The example from heliopy github page\n",
    "from datetime import datetime, timedelta\n",
    "import heliopy.data.wind as wind\n",
    "import matplotlib.pyplot as plt\n",
    "\n",
    "starttime = datetime(2016, 1, 1, 0, 0, 0)\n",
    "endtime = starttime + timedelta(hours=2)\n",
    "\n",
    "data = wind.mfi_h0(starttime, endtime)\n",
    "\n",
    "fig=plt.figure()\n",
    "plt.plot(data['Bx_gse'])\n",
    "plt.plot(data['By_gse'])\n",
    "plt.plot(data['Bz_gse'])"
   ]
  },
  {
   "cell_type": "code",
   "execution_count": 2,
   "metadata": {
    "autoscroll": false,
    "collapsed": false,
    "ein.tags": "worksheet-0",
    "slideshow": {
     "slide_type": "-"
    }
   },
   "outputs": [],
   "source": [
    "import spacepy.time as spt\n",
    "import spacepy.omni as om\n",
    "import datetime as dt\n",
    "st = dt.datetime(1997,1,17,0,0)\n",
    "en = dt.datetime(1997,1,17,2,0)\n",
    "delta = dt.timedelta(seconds=1)\n",
    "ticks = spt.tickrange(st, en, delta)\n",
    "data = om.get_omni(ticks)"
   ]
  },
  {
   "cell_type": "code",
   "execution_count": 17,
   "metadata": {
    "autoscroll": false,
    "collapsed": false,
    "ein.tags": "worksheet-0",
    "slideshow": {
     "slide_type": "-"
    }
   },
   "outputs": [],
   "source": [
    "this = data['ByIMF']"
   ]
  },
  {
   "cell_type": "code",
   "execution_count": 27,
   "metadata": {
    "autoscroll": false,
    "collapsed": false,
    "ein.tags": "worksheet-0",
    "slideshow": {
     "slide_type": "-"
    }
   },
   "outputs": [],
   "source": [
    "%pfile om.get_omni"
   ]
  }
 ],
 "metadata": {
  "kernelspec": {
   "display_name": "Python 3",
   "name": "python3"
  },
  "name": "journal__20180313__plot_imf_conditions_during_interesting_dawnsector_orbits.ipynb"
 },
 "nbformat": 4,
 "nbformat_minor": 2
}
