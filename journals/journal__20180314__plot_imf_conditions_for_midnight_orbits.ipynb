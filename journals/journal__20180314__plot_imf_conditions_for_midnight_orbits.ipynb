{
 "cells": [
  {
   "cell_type": "code",
   "execution_count": 27,
   "metadata": {
    "autoscroll": false,
    "collapsed": false,
    "ein.tags": "worksheet-0",
    "slideshow": {
     "slide_type": "-"
    }
   },
   "outputs": [],
   "source": [
    "import sys\n",
    "import os\n",
    "import datetime\n",
    "import calendar\n",
    "import numpy as np\n",
    "import matplotlib\n",
    "from matplotlib import pyplot as plt\n",
    "from matplotlib.dates import YearLocator, MonthLocator, DayLocator, HourLocator, MinuteLocator, DateFormatter\n",
    "from matplotlib.ticker import (MultipleLocator, FormatStrFormatter,\n",
    "                               AutoMinorLocator)\n",
    "import omni_utils\n",
    "from pathlib import Path"
   ]
  },
  {
   "cell_type": "code",
   "execution_count": 2,
   "metadata": {
    "autoscroll": false,
    "collapsed": false,
    "ein.tags": "worksheet-0",
    "slideshow": {
     "slide_type": "-"
    }
   },
   "outputs": [],
   "source": [
    "doPlots = 1"
   ]
  },
  {
   "cell_type": "code",
   "execution_count": 3,
   "metadata": {
    "autoscroll": false,
    "collapsed": false,
    "ein.tags": "worksheet-0",
    "slideshow": {
     "slide_type": "-"
    }
   },
   "outputs": [],
   "source": [
    "# for a in os.environ:\n",
    "#     print(a)\n",
    "# sys.path.insert(0,'/home/spencerh/python/hatch_python_utils/')\n",
    "# #sys.path\n",
    "# print(sys.path)"
   ]
  },
  {
   "cell_type": "code",
   "execution_count": 4,
   "metadata": {
    "autoscroll": false,
    "collapsed": false,
    "ein.tags": "worksheet-0",
    "slideshow": {
     "slide_type": "-"
    }
   },
   "outputs": [
    {
     "name": "stdout",
     "output_type": "stream",
     "text": [
      "Opening culled_OMNI_magdata.dat ...\n"
     ]
    },
    {
     "name": "stdout",
     "output_type": "stream",
     "text": [
      "--------------------------------------------------\n",
      "Date: Fri May  6 16:53:37 2016\n",
      "User: spencerh\n",
      "Host: thelonious.dartmouth.edu\n",
      "--------------------------------------------------\n",
      "Format: 12\n",
      "Architecture: x86_64\n",
      "Operating System: linux\n",
      "IDL Version: 8.4\n",
      "--------------------------------------------------\n",
      "Successfully read 20 records of which:\n",
      " - 17 are of type VARIABLE\n",
      " - 1 are of type TIMESTAMP\n",
      " - 1 are of type VERSION\n",
      "--------------------------------------------------\n",
      "Available variables:\n",
      " - cone_overclock_gsm [<class 'numpy.ndarray'>]\n",
      " - mag_utc [<class 'numpy.ndarray'>]\n",
      " - bz_gse [<class 'numpy.ndarray'>]\n",
      " - bxy_over_bz_gsm [<class 'numpy.ndarray'>]\n",
      " - thetacone_gsm [<class 'numpy.ndarray'>]\n",
      " - by_gse [<class 'numpy.ndarray'>]\n",
      " - bz_gsm [<class 'numpy.ndarray'>]\n",
      " - bt_gse [<class 'numpy.ndarray'>]\n",
      " - bxy_over_bz_gse [<class 'numpy.ndarray'>]\n",
      " - goodmag_goodtimes_i [<class 'numpy.ndarray'>]\n",
      " - by_gsm [<class 'numpy.ndarray'>]\n",
      " - bt_gsm [<class 'numpy.ndarray'>]\n",
      " - cone_overclock_gse [<class 'numpy.ndarray'>]\n",
      " - bx [<class 'numpy.ndarray'>]\n",
      " - thetacone_gse [<class 'numpy.ndarray'>]\n",
      " - phiclock_gse [<class 'numpy.ndarray'>]\n",
      " - phiclock_gsm [<class 'numpy.ndarray'>]\n",
      "--------------------------------------------------\n"
     ]
    }
   ],
   "source": [
    "omni = omni_utils.load_omniDB()"
   ]
  },
  {
   "cell_type": "code",
   "execution_count": 5,
   "metadata": {
    "autoscroll": false,
    "collapsed": false,
    "ein.tags": "worksheet-0",
    "slideshow": {
     "slide_type": "-"
    }
   },
   "outputs": [],
   "source": [
    "# # As seconds since 1970:\n",
    "# print(omni.mag_utc[0])\n",
    "# # As nicely formatted thing:\n",
    "# print(datetime.datetime.fromtimestamp(omni.mag_utc[0]))\n",
    "# # Convert from datetime to UTC\n",
    "# print(datetime.datetime.fromtimestamp(omni.mag_utc[0],tz=datetime.timezone.utc).replace(tzinfo=datetime.timezone.utc).timestamp())\n",
    "# # And then back\n",
    "# print(datetime.datetime.fromtimestamp(838857600.0))"
   ]
  },
  {
   "cell_type": "code",
   "execution_count": 22,
   "metadata": {
    "autoscroll": false,
    "collapsed": false,
    "ein.tags": "worksheet-0",
    "slideshow": {
     "slide_type": "-"
    }
   },
   "outputs": [],
   "source": [
    "# Read in the ol' txtFile\n",
    "kappaTxtFile='/SPENCEdata/Research/Satellites/FAST/espec_identification/txtOutput/20180302--mono_aurora_streaks__-5-5MLT__1000-3999ORB__300-4300ALT__minTStreak_sec_60.txt'\n",
    "kappaFmt=np.dtype([('tmpOrb',np.int32),('MLT',np.float64),('ILAT',np.float64),('ALT',np.float64),('t1Str',np.unicode_,19),('t2Str',np.unicode_,8),('t_streakLen',np.int32),('nPts',np.int32),('dt_avg',np.float64),('avg_current',np.float64)])\n",
    "kappaInfo = np.genfromtxt(kappaTxtFile,dtype=kappaFmt,skip_header=1)\n",
    "kappaRec = np.rec.array(kappaInfo)\n",
    "kappaRec.sort(order='tmpOrb')   # Sort so that plots are ordered by orbit number"
   ]
  },
  {
   "cell_type": "code",
   "execution_count": 23,
   "metadata": {
    "autoscroll": false,
    "collapsed": false,
    "ein.tags": "worksheet-0",
    "slideshow": {
     "slide_type": "-"
    }
   },
   "outputs": [],
   "source": [
    "t2Str = kappaRec.t2Str\n",
    "t1Str = kappaRec.t1Str\n",
    "\n",
    "# See if we can do substrings\n",
    "# this = [x[0:11] for x in t1Str]\n",
    "# print(this)\n",
    "#this?\n",
    "\n",
    "# Yup, now combine 'em all\n",
    "this = [\"{}{}\".format(t1_[0:11],t2_) for t1_, t2_ in zip(t1Str,t2Str)]\n",
    "\n",
    "# Print 'em for kicks\n",
    "# for t1, t2 in zip(t1Str,this):\n",
    "#     print(t1,\", \",t2)\n",
    "\n",
    "# And convert to datetime objects\n",
    "t1s=[datetime.datetime.strptime(t1,'%Y-%m-%d/%H:%M:%S') for t1 in t1Str]\n",
    "t2s=[datetime.datetime.strptime(t2,'%Y-%m-%d/%H:%M:%S') for t2 in this]\n",
    "\n",
    "# Does it all work? Looks like the answer is 'yes'\n",
    "# for t1,t2,bros in zip(t1s,t2s,kappaRec.t_streakLen):\n",
    "#     print(t1,\",\",t2,\",\",t2-t1,\",\",bros)\n",
    "\n",
    "# Times before and after\n",
    "# tIncrem=datetime.timedelta(hours=1)\n",
    "# for t1 in t1s:\n",
    "#    print(t1-tIncrem,\", \",t1+tIncrem)\n"
   ]
  },
  {
   "cell_type": "code",
   "execution_count": 24,
   "metadata": {
    "autoscroll": false,
    "collapsed": false,
    "ein.tags": "worksheet-0",
    "slideshow": {
     "slide_type": "-"
    }
   },
   "outputs": [],
   "source": [
    "#t1s.replace(tzinfo=datetime.timezone.utc)\n",
    "t1Upp = [t1.replace(tzinfo=datetime.timezone.utc) for t1 in t1s]\n",
    "t2Upp = [t2.replace(tzinfo=datetime.timezone.utc) for t2 in t2s]\n",
    "t1s   = t1Upp\n",
    "t2s   = t2Upp\n",
    "\n",
    "t1UTC = [t1.timestamp() for t1 in t1s]\n",
    "t2UTC = [t2.timestamp() for t2 in t2s]"
   ]
  },
  {
   "cell_type": "code",
   "execution_count": 25,
   "metadata": {
    "autoscroll": false,
    "collapsed": false,
    "ein.tags": "worksheet-0",
    "slideshow": {
     "slide_type": "-"
    }
   },
   "outputs": [],
   "source": [
    "########################################\n",
    "# Set up plots\n",
    "########################################\n",
    "\n",
    "# Set font sizes for things\n",
    "legFontSize = 20\n",
    "tickFontSize=25\n",
    "titleFontSize=30\n",
    "matplotlib.rc('xtick',labelsize=tickFontSize)\n",
    "matplotlib.rc('ytick',labelsize=tickFontSize)\n",
    "matplotlib.rc('axes',titlesize=titleFontSize)\n",
    "\n",
    "# Set up ticks\n",
    "ymajorLocator = MultipleLocator(1)\n",
    "yminorLocator = MultipleLocator(0.25)\n",
    "\n",
    "xAxisHours = MinuteLocator(interval=30)   # every hour\n",
    "xAxisMinutes = MinuteLocator(interval=5)  # every minute\n",
    "xAxisHoursFmt = DateFormatter('%H:%M')"
   ]
  },
  {
   "cell_type": "code",
   "execution_count": 53,
   "metadata": {
    "autoscroll": false,
    "collapsed": false,
    "ein.tags": "worksheet-0",
    "slideshow": {
     "slide_type": "slide"
    }
   },
   "outputs": [
    {
     "name": "stdout",
     "output_type": "stream",
     "text": [
      "Already have 00__midnight_kappa__orb1182__SW_conds.png ... Skipping!\n",
      "Already have 01__midnight_kappa__orb1257__SW_conds.png ... Skipping!\n",
      "Already have 02__midnight_kappa__orb1259__SW_conds.png ... Skipping!\n",
      "Already have 03__midnight_kappa__orb1450__SW_conds.png ... Skipping!\n",
      "Already have 04__midnight_kappa__orb1504__SW_conds.png ... Skipping!\n",
      "Already have 05__midnight_kappa__orb1562__SW_conds.png ... Skipping!\n",
      "Already have 06__midnight_kappa__orb1563__SW_conds.png ... Skipping!\n",
      "Already have 07__midnight_kappa__orb1567__SW_conds.png ... Skipping!\n",
      "Already have 08__midnight_kappa__orb1569__SW_conds.png ... Skipping!\n",
      "Already have 09__midnight_kappa__orb1576__SW_conds.png ... Skipping!\n",
      "Already have 10__midnight_kappa__orb1578__SW_conds.png ... Skipping!\n",
      "Already have 11__midnight_kappa__orb1579__SW_conds.png ... Skipping!\n",
      "Already have 12__midnight_kappa__orb1607__SW_conds.png ... Skipping!\n",
      "Already have 13__midnight_kappa__orb1607__SW_conds.png ... Skipping!\n",
      "Already have 14__midnight_kappa__orb1612__SW_conds.png ... Skipping!\n",
      "Already have 15__midnight_kappa__orb1615__SW_conds.png ... Skipping!\n",
      "Already have 16__midnight_kappa__orb1626__SW_conds.png ... Skipping!\n",
      "Already have 17__midnight_kappa__orb1633__SW_conds.png ... Skipping!\n",
      "Already have 18__midnight_kappa__orb1635__SW_conds.png ... Skipping!\n",
      "Already have 19__midnight_kappa__orb1637__SW_conds.png ... Skipping!\n",
      "Already have 20__midnight_kappa__orb1650__SW_conds.png ... Skipping!\n",
      "Already have 21__midnight_kappa__orb1662__SW_conds.png ... Skipping!\n",
      "Already have 22__midnight_kappa__orb1664__SW_conds.png ... Skipping!\n",
      "Already have 23__midnight_kappa__orb1693__SW_conds.png ... Skipping!\n",
      "Already have 24__midnight_kappa__orb1694__SW_conds.png ... Skipping!\n",
      "Already have 25__midnight_kappa__orb1696__SW_conds.png ... Skipping!\n",
      "Already have 26__midnight_kappa__orb1697__SW_conds.png ... Skipping!\n",
      "Already have 27__midnight_kappa__orb1702__SW_conds.png ... Skipping!\n",
      "Already have 28__midnight_kappa__orb1715__SW_conds.png ... Skipping!\n",
      "Already have 29__midnight_kappa__orb1719__SW_conds.png ... Skipping!\n",
      "Already have 30__midnight_kappa__orb1720__SW_conds.png ... Skipping!\n",
      "Already have 31__midnight_kappa__orb1727__SW_conds.png ... Skipping!\n",
      "Already have 32__midnight_kappa__orb1728__SW_conds.png ... Skipping!\n",
      "Already have 33__midnight_kappa__orb1731__SW_conds.png ... Skipping!\n",
      "Already have 34__midnight_kappa__orb1734__SW_conds.png ... Skipping!\n",
      "[35] Orbit 1743 (inds 231450:231451)\n",
      "Can't do it!\n",
      "Already have 36__midnight_kappa__orb1744__SW_conds.png ... Skipping!\n",
      "Already have 37__midnight_kappa__orb1745__SW_conds.png ... Skipping!\n",
      "Already have 38__midnight_kappa__orb1746__SW_conds.png ... Skipping!\n",
      "Already have 39__midnight_kappa__orb1747__SW_conds.png ... Skipping!\n",
      "Already have 40__midnight_kappa__orb1750__SW_conds.png ... Skipping!\n",
      "Already have 41__midnight_kappa__orb1753__SW_conds.png ... Skipping!\n",
      "Already have 42__midnight_kappa__orb1754__SW_conds.png ... Skipping!\n",
      "Already have 43__midnight_kappa__orb1756__SW_conds.png ... Skipping!\n",
      "Already have 44__midnight_kappa__orb1758__SW_conds.png ... Skipping!\n",
      "Already have 45__midnight_kappa__orb1760__SW_conds.png ... Skipping!\n",
      "Already have 46__midnight_kappa__orb1774__SW_conds.png ... Skipping!\n",
      "Already have 47__midnight_kappa__orb1775__SW_conds.png ... Skipping!\n",
      "Already have 48__midnight_kappa__orb1776__SW_conds.png ... Skipping!\n",
      "Already have 49__midnight_kappa__orb1790__SW_conds.png ... Skipping!\n",
      "Already have 50__midnight_kappa__orb1797__SW_conds.png ... Skipping!\n",
      "Already have 51__midnight_kappa__orb1801__SW_conds.png ... Skipping!\n",
      "Already have 52__midnight_kappa__orb1804__SW_conds.png ... Skipping!\n",
      "Already have 53__midnight_kappa__orb1805__SW_conds.png ... Skipping!\n",
      "[54] Orbit 1812 (inds 239584:238306)\n",
      "Can't do it!\n"
     ]
    },
    {
     "name": "stdout",
     "output_type": "stream",
     "text": [
      "[55] Orbit 1822 (inds 240880:240987)\n",
      "Time[0]: 1997-02-05 21:14:00+00:00\n",
      "Saving to 55__midnight_kappa__orb1822__SW_conds.png ...\n"
     ]
    },
    {
     "name": "stdout",
     "output_type": "stream",
     "text": [
      "[56] Orbit 1829 (inds 241768:241889)\n",
      "Time[0]: 1997-02-06 12:51:00+00:00\n"
     ]
    },
    {
     "name": "stdout",
     "output_type": "stream",
     "text": [
      "Saving to 56__midnight_kappa__orb1829__SW_conds.png ...\n"
     ]
    },
    {
     "name": "stdout",
     "output_type": "stream",
     "text": [
      "[57] Orbit 1835 (inds 242535:242626)\n",
      "Time[0]: 1997-02-07 02:02:00+00:00\n",
      "Saving to 57__midnight_kappa__orb1835__SW_conds.png ...\n"
     ]
    },
    {
     "name": "stdout",
     "output_type": "stream",
     "text": [
      "[58] Orbit 1845 (inds 243815:243926)\n",
      "Time[0]: 1997-02-08 00:15:00+00:00\n",
      "Saving to 58__midnight_kappa__orb1845__SW_conds.png ...\n"
     ]
    },
    {
     "name": "stdout",
     "output_type": "stream",
     "text": [
      "[59] Orbit 1849 (inds 244318:244436)\n",
      "Time[0]: 1997-02-08 09:11:00+00:00\n",
      "Saving to 59__midnight_kappa__orb1849__SW_conds.png ...\n"
     ]
    },
    {
     "name": "stdout",
     "output_type": "stream",
     "text": [
      "[60] Orbit 1858 (inds 245459:245579)\n",
      "Time[0]: 1997-02-09 05:05:00+00:00\n",
      "Saving to 60__midnight_kappa__orb1858__SW_conds.png ...\n"
     ]
    },
    {
     "name": "stdout",
     "output_type": "stream",
     "text": [
      "[61] Orbit 1861 (inds 245859:245980)\n",
      "Time[0]: 1997-02-09 11:56:00+00:00\n",
      "Saving to 61__midnight_kappa__orb1861__SW_conds.png ...\n"
     ]
    },
    {
     "name": "stdout",
     "output_type": "stream",
     "text": [
      "[62] Orbit 1864 (inds 246243:246351)\n",
      "Time[0]: 1997-02-09 18:28:00+00:00\n",
      "Saving to 62__midnight_kappa__orb1864__SW_conds.png ...\n"
     ]
    },
    {
     "name": "stdout",
     "output_type": "stream",
     "text": [
      "[63] Orbit 1867 (inds 246616:246738)\n",
      "Time[0]: 1997-02-10 01:00:00+00:00\n",
      "Saving to 63__midnight_kappa__orb1867__SW_conds.png ...\n"
     ]
    },
    {
     "name": "stdout",
     "output_type": "stream",
     "text": [
      "[64] Orbit 1869 (inds 246881:247000)\n",
      "Time[0]: 1997-02-10 05:29:00+00:00\n",
      "Saving to 64__midnight_kappa__orb1869__SW_conds.png ...\n"
     ]
    },
    {
     "name": "stdout",
     "output_type": "stream",
     "text": [
      "[65] Orbit 1869 (inds 246884:247004)\n",
      "Time[0]: 1997-02-10 05:32:00+00:00\n",
      "Saving to 65__midnight_kappa__orb1869__SW_conds.png ...\n"
     ]
    },
    {
     "name": "stdout",
     "output_type": "stream",
     "text": [
      "[66] Orbit 1870 (inds 247011:247132)\n",
      "Time[0]: 1997-02-10 07:45:00+00:00\n",
      "Saving to 66__midnight_kappa__orb1870__SW_conds.png ...\n"
     ]
    },
    {
     "name": "stdout",
     "output_type": "stream",
     "text": [
      "[67] Orbit 1875 (inds 247680:247799)\n",
      "Time[0]: 1997-02-10 18:54:00+00:00\n",
      "Saving to 67__midnight_kappa__orb1875__SW_conds.png ...\n"
     ]
    },
    {
     "name": "stdout",
     "output_type": "stream",
     "text": [
      "[68] Orbit 1875 (inds 247681:247800)\n",
      "Time[0]: 1997-02-10 18:55:00+00:00\n",
      "Saving to 68__midnight_kappa__orb1875__SW_conds.png ...\n"
     ]
    },
    {
     "name": "stdout",
     "output_type": "stream",
     "text": [
      "[69] Orbit 1877 (inds 247938:248049)\n",
      "Time[0]: 1997-02-10 23:14:00+00:00\n",
      "Saving to 69__midnight_kappa__orb1877__SW_conds.png ...\n"
     ]
    },
    {
     "name": "stdout",
     "output_type": "stream",
     "text": [
      "[70] Orbit 1880 (inds 248320:248441)\n",
      "Time[0]: 1997-02-11 05:55:00+00:00\n",
      "Saving to 70__midnight_kappa__orb1880__SW_conds.png ...\n"
     ]
    },
    {
     "name": "stdout",
     "output_type": "stream",
     "text": [
      "[71] Orbit 1884 (inds 248856:248977)\n",
      "Time[0]: 1997-02-11 14:53:00+00:00\n",
      "Saving to 71__midnight_kappa__orb1884__SW_conds.png ...\n"
     ]
    },
    {
     "name": "stdout",
     "output_type": "stream",
     "text": [
      "[72] Orbit 1888 (inds 249384:249505)\n",
      "Time[0]: 1997-02-11 23:41:00+00:00\n",
      "Saving to 72__midnight_kappa__orb1888__SW_conds.png ...\n"
     ]
    },
    {
     "name": "stdout",
     "output_type": "stream",
     "text": [
      "[73] Orbit 1892 (inds 249907:250024)\n",
      "Time[0]: 1997-02-12 08:40:00+00:00\n",
      "Saving to 73__midnight_kappa__orb1892__SW_conds.png ...\n"
     ]
    },
    {
     "name": "stdout",
     "output_type": "stream",
     "text": [
      "[74] Orbit 1902 (inds 251202:251321)\n",
      "Time[0]: 1997-02-13 06:50:00+00:00\n",
      "Saving to 74__midnight_kappa__orb1902__SW_conds.png ...\n"
     ]
    },
    {
     "name": "stdout",
     "output_type": "stream",
     "text": [
      "[75] Orbit 1906 (inds 251731:251828)\n",
      "Time[0]: 1997-02-13 15:45:00+00:00\n",
      "Saving to 75__midnight_kappa__orb1906__SW_conds.png ...\n"
     ]
    },
    {
     "name": "stdout",
     "output_type": "stream",
     "text": [
      "[76] Orbit 1909 (inds 252022:252144)\n",
      "Time[0]: 1997-02-13 22:19:00+00:00\n",
      "Saving to 76__midnight_kappa__orb1909__SW_conds.png ...\n"
     ]
    },
    {
     "name": "stdout",
     "output_type": "stream",
     "text": [
      "[77] Orbit 1911 (inds 252287:252406)\n",
      "Time[0]: 1997-02-14 02:44:00+00:00\n",
      "Saving to 77__midnight_kappa__orb1911__SW_conds.png ...\n"
     ]
    },
    {
     "name": "stdout",
     "output_type": "stream",
     "text": [
      "[78] Orbit 1917 (inds 253076:253195)\n",
      "Time[0]: 1997-02-14 16:10:00+00:00\n",
      "Saving to 78__midnight_kappa__orb1917__SW_conds.png ...\n"
     ]
    },
    {
     "name": "stdout",
     "output_type": "stream",
     "text": [
      "[79] Orbit 1918 (inds 253204:253309)\n",
      "Time[0]: 1997-02-14 18:20:00+00:00\n",
      "Saving to 79__midnight_kappa__orb1918__SW_conds.png ...\n"
     ]
    },
    {
     "name": "stdout",
     "output_type": "stream",
     "text": [
      "[80] Orbit 1940 (inds 255678:255796)\n",
      "Time[0]: 1997-02-16 19:23:00+00:00\n",
      "Saving to 80__midnight_kappa__orb1940__SW_conds.png ...\n"
     ]
    },
    {
     "name": "stdout",
     "output_type": "stream",
     "text": [
      "[81] Orbit 1940 (inds 255667:255782)\n",
      "Time[0]: 1997-02-16 19:10:00+00:00\n",
      "Saving to 81__midnight_kappa__orb1940__SW_conds.png ...\n"
     ]
    },
    {
     "name": "stdout",
     "output_type": "stream",
     "text": [
      "[82] Orbit 1944 (inds 256185:256294)\n",
      "Time[0]: 1997-02-17 04:00:00+00:00\n",
      "Saving to 82__midnight_kappa__orb1944__SW_conds.png ...\n"
     ]
    },
    {
     "name": "stdout",
     "output_type": "stream",
     "text": [
      "[83] Orbit 1945 (inds 256307:256408)\n",
      "Time[0]: 1997-02-17 06:14:00+00:00\n",
      "Saving to 83__midnight_kappa__orb1945__SW_conds.png ...\n"
     ]
    },
    {
     "name": "stdout",
     "output_type": "stream",
     "text": [
      "[84] Orbit 1947 (inds 256553:256675)\n",
      "Time[0]: 1997-02-17 10:48:00+00:00\n",
      "Saving to 84__midnight_kappa__orb1947__SW_conds.png ...\n"
     ]
    },
    {
     "name": "stdout",
     "output_type": "stream",
     "text": [
      "[85] Orbit 1954 (inds 257455:257577)\n",
      "Time[0]: 1997-02-18 02:08:00+00:00\n",
      "Saving to 85__midnight_kappa__orb1954__SW_conds.png ...\n"
     ]
    },
    {
     "name": "stdout",
     "output_type": "stream",
     "text": [
      "[86] Orbit 1957 (inds 257860:257981)\n",
      "Time[0]: 1997-02-18 08:57:00+00:00\n",
      "Saving to 86__midnight_kappa__orb1957__SW_conds.png ...\n"
     ]
    },
    {
     "name": "stdout",
     "output_type": "stream",
     "text": [
      "[87] Orbit 1990 (inds 262139:262252)\n",
      "Time[0]: 1997-02-21 10:13:00+00:00\n",
      "Saving to 87__midnight_kappa__orb1990__SW_conds.png ...\n"
     ]
    },
    {
     "name": "stdout",
     "output_type": "stream",
     "text": [
      "[88] Orbit 2006 (inds 264183:264305)\n",
      "Time[0]: 1997-02-22 21:38:00+00:00\n",
      "Saving to 88__midnight_kappa__orb2006__SW_conds.png ...\n"
     ]
    },
    {
     "name": "stdout",
     "output_type": "stream",
     "text": [
      "[89] Orbit 2008 (inds 264442:264534)\n",
      "Time[0]: 1997-02-23 02:02:00+00:00\n",
      "Saving to 89__midnight_kappa__orb2008__SW_conds.png ...\n"
     ]
    },
    {
     "name": "stdout",
     "output_type": "stream",
     "text": [
      "[90] Orbit 2009 (inds 264549:264659)\n",
      "Time[0]: 1997-02-23 04:18:00+00:00\n",
      "Saving to 90__midnight_kappa__orb2009__SW_conds.png ...\n"
     ]
    },
    {
     "name": "stdout",
     "output_type": "stream",
     "text": [
      "[91] Orbit 2030 (inds 267231:267282)\n",
      "Time[0]: 1997-02-25 02:55:00+00:00\n"
     ]
    },
    {
     "name": "stdout",
     "output_type": "stream",
     "text": [
      "Saving to 91__midnight_kappa__orb2030__SW_conds.png ...\n"
     ]
    },
    {
     "name": "stdout",
     "output_type": "stream",
     "text": [
      "[92] Orbit 2037 (inds 268019:268133)\n",
      "Time[0]: 1997-02-25 18:31:00+00:00\n",
      "Saving to 92__midnight_kappa__orb2037__SW_conds.png ...\n"
     ]
    },
    {
     "name": "stdout",
     "output_type": "stream",
     "text": [
      "[93] Orbit 2044 (inds 268850:268923)\n",
      "Time[0]: 1997-02-26 10:01:00+00:00\n",
      "Saving to 93__midnight_kappa__orb2044__SW_conds.png ...\n"
     ]
    },
    {
     "name": "stdout",
     "output_type": "stream",
     "text": [
      "[94] Orbit 2045 (inds 268934:269045)\n",
      "Time[0]: 1997-02-26 12:17:00+00:00\n",
      "Saving to 94__midnight_kappa__orb2045__SW_conds.png ...\n"
     ]
    },
    {
     "name": "stdout",
     "output_type": "stream",
     "text": [
      "[95] Orbit 2045 (inds 268934:269045)\n",
      "Time[0]: 1997-02-26 12:17:00+00:00\n",
      "Saving to 95__midnight_kappa__orb2045__SW_conds.png ...\n"
     ]
    },
    {
     "name": "stdout",
     "output_type": "stream",
     "text": [
      "[96] Orbit 2062 (inds 270884:270993)\n",
      "Time[0]: 1997-02-28 01:56:00+00:00\n",
      "Saving to 96__midnight_kappa__orb2062__SW_conds.png ...\n"
     ]
    },
    {
     "name": "stdout",
     "output_type": "stream",
     "text": [
      "[97] Orbit 2069 (inds 271794:271906)\n",
      "Time[0]: 1997-02-28 17:33:00+00:00\n",
      "Saving to 97__midnight_kappa__orb2069__SW_conds.png ...\n"
     ]
    },
    {
     "name": "stdout",
     "output_type": "stream",
     "text": [
      "[98] Orbit 2072 (inds 271970:272091)\n",
      "Time[0]: 1997-03-01 00:08:00+00:00\n",
      "Saving to 98__midnight_kappa__orb2072__SW_conds.png ...\n"
     ]
    },
    {
     "name": "stdout",
     "output_type": "stream",
     "text": [
      "[99] Orbit 2074 (inds 272235:272356)\n",
      "Time[0]: 1997-03-01 04:39:00+00:00\n",
      "Saving to 99__midnight_kappa__orb2074__SW_conds.png ...\n"
     ]
    },
    {
     "name": "stdout",
     "output_type": "stream",
     "text": [
      "[100] Orbit 2078 (inds 272756:272871)\n",
      "Time[0]: 1997-03-01 13:34:00+00:00\n",
      "Saving to 100__midnight_kappa__orb2078__SW_conds.png ...\n"
     ]
    },
    {
     "name": "stdout",
     "output_type": "stream",
     "text": [
      "[101] Orbit 2081 (inds 273142:273258)\n",
      "Time[0]: 1997-03-01 20:13:00+00:00\n",
      "Saving to 101__midnight_kappa__orb2081__SW_conds.png ...\n"
     ]
    },
    {
     "name": "stdout",
     "output_type": "stream",
     "text": [
      "[102] Orbit 2082 (inds 273264:273377)\n",
      "Time[0]: 1997-03-01 22:20:00+00:00\n",
      "Saving to 102__midnight_kappa__orb2082__SW_conds.png ...\n"
     ]
    },
    {
     "name": "stdout",
     "output_type": "stream",
     "text": [
      "[103] Orbit 2526 (inds 328396:328517)\n",
      "Time[0]: 1997-04-12 00:35:00+00:00\n",
      "Saving to 103__midnight_kappa__orb2526__SW_conds.png ...\n"
     ]
    },
    {
     "name": "stdout",
     "output_type": "stream",
     "text": [
      "[104] Orbit 2685 (inds 347827:347946)\n",
      "Time[0]: 1997-04-26 17:29:00+00:00\n",
      "Saving to 104__midnight_kappa__orb2685__SW_conds.png ...\n"
     ]
    },
    {
     "name": "stdout",
     "output_type": "stream",
     "text": [
      "[105] Orbit 2760 (inds 357101:357222)\n",
      "Time[0]: 1997-05-03 15:04:00+00:00\n",
      "Saving to 105__midnight_kappa__orb2760__SW_conds.png ...\n"
     ]
    },
    {
     "name": "stdout",
     "output_type": "stream",
     "text": [
      "[106] Orbit 2789 (inds 360894:361013)\n",
      "Time[0]: 1997-05-06 07:26:00+00:00\n",
      "Saving to 106__midnight_kappa__orb2789__SW_conds.png ...\n"
     ]
    },
    {
     "name": "stdout",
     "output_type": "stream",
     "text": [
      "[107] Orbit 2817 (inds 364535:364652)\n",
      "Time[0]: 1997-05-08 22:31:00+00:00\n",
      "Saving to 107__midnight_kappa__orb2817__SW_conds.png ...\n"
     ]
    },
    {
     "name": "stdout",
     "output_type": "stream",
     "text": [
      "[108] Orbit 2822 (inds 365201:365317)\n",
      "Time[0]: 1997-05-09 09:43:00+00:00\n",
      "Saving to 108__midnight_kappa__orb2822__SW_conds.png ...\n"
     ]
    },
    {
     "name": "stdout",
     "output_type": "stream",
     "text": [
      "[109] Orbit 2891 (inds 373604:373726)\n",
      "Time[0]: 1997-05-15 18:41:00+00:00\n"
     ]
    },
    {
     "name": "stdout",
     "output_type": "stream",
     "text": [
      "Saving to 109__midnight_kappa__orb2891__SW_conds.png ...\n"
     ]
    },
    {
     "name": "stdout",
     "output_type": "stream",
     "text": [
      "[110] Orbit 2891 (inds 373600:373722)\n",
      "Time[0]: 1997-05-15 18:37:00+00:00\n",
      "Saving to 110__midnight_kappa__orb2891__SW_conds.png ...\n"
     ]
    },
    {
     "name": "stdout",
     "output_type": "stream",
     "text": [
      "[111] Orbit 2892 (inds 373742:373863)\n",
      "Time[0]: 1997-05-15 20:59:00+00:00\n",
      "Saving to 111__midnight_kappa__orb2892__SW_conds.png ...\n"
     ]
    },
    {
     "name": "stdout",
     "output_type": "stream",
     "text": [
      "[112] Orbit 2897 (inds 374337:374458)\n",
      "Time[0]: 1997-05-16 07:02:00+00:00\n",
      "Saving to 112__midnight_kappa__orb2897__SW_conds.png ...\n"
     ]
    },
    {
     "name": "stdout",
     "output_type": "stream",
     "text": [
      "[113] Orbit 2937 (inds 379263:379384)\n",
      "Time[0]: 1997-05-20 00:54:00+00:00\n",
      "Saving to 113__midnight_kappa__orb2937__SW_conds.png ...\n"
     ]
    },
    {
     "name": "stdout",
     "output_type": "stream",
     "text": [
      "[114] Orbit 2957 (inds 381607:381727)\n",
      "Time[0]: 1997-05-21 21:15:00+00:00\n",
      "Saving to 114__midnight_kappa__orb2957__SW_conds.png ...\n"
     ]
    },
    {
     "name": "stdout",
     "output_type": "stream",
     "text": [
      "[115] Orbit 2968 (inds 383050:383173)\n",
      "Time[0]: 1997-05-22 21:39:00+00:00\n",
      "Saving to 115__midnight_kappa__orb2968__SW_conds.png ...\n"
     ]
    },
    {
     "name": "stdout",
     "output_type": "stream",
     "text": [
      "[116] Orbit 2976 (inds 384094:384215)\n",
      "Time[0]: 1997-05-23 15:18:00+00:00\n",
      "Saving to 116__midnight_kappa__orb2976__SW_conds.png ...\n"
     ]
    },
    {
     "name": "stdout",
     "output_type": "stream",
     "text": [
      "[117] Orbit 3011 (inds 388600:388721)\n",
      "Time[0]: 1997-05-26 21:05:00+00:00\n",
      "Saving to 117__midnight_kappa__orb3011__SW_conds.png ...\n"
     ]
    },
    {
     "name": "stdout",
     "output_type": "stream",
     "text": [
      "[118] Orbit 3060 (inds 395050:395167)\n",
      "Time[0]: 1997-05-31 09:47:00+00:00\n",
      "Saving to 118__midnight_kappa__orb3060__SW_conds.png ...\n"
     ]
    },
    {
     "name": "stdout",
     "output_type": "stream",
     "text": [
      "[119] Orbit 3061 (inds 395174:395293)\n",
      "Time[0]: 1997-05-31 11:57:00+00:00\n",
      "Saving to 119__midnight_kappa__orb3061__SW_conds.png ...\n"
     ]
    },
    {
     "name": "stdout",
     "output_type": "stream",
     "text": [
      "[120] Orbit 3069 (inds 396113:396234)\n",
      "Time[0]: 1997-06-01 04:43:00+00:00\n",
      "Saving to 120__midnight_kappa__orb3069__SW_conds.png ...\n"
     ]
    },
    {
     "name": "stdout",
     "output_type": "stream",
     "text": [
      "[121] Orbit 3075 (inds 396967:397089)\n",
      "Time[0]: 1997-06-01 19:07:00+00:00\n",
      "Saving to 121__midnight_kappa__orb3075__SW_conds.png ...\n"
     ]
    },
    {
     "name": "stdout",
     "output_type": "stream",
     "text": [
      "[122] Orbit 3086 (inds 398301:398416)\n",
      "Time[0]: 1997-06-02 18:22:00+00:00\n",
      "Saving to 122__midnight_kappa__orb3086__SW_conds.png ...\n"
     ]
    },
    {
     "name": "stdout",
     "output_type": "stream",
     "text": [
      "[123] Orbit 3097 (inds 399744:399865)\n",
      "Time[0]: 1997-06-03 19:54:00+00:00\n",
      "Saving to 123__midnight_kappa__orb3097__SW_conds.png ...\n"
     ]
    },
    {
     "name": "stdout",
     "output_type": "stream",
     "text": [
      "[124] Orbit 3099 (inds 400014:400134)\n",
      "Time[0]: 1997-06-04 00:28:00+00:00\n",
      "Saving to 124__midnight_kappa__orb3099__SW_conds.png ...\n"
     ]
    },
    {
     "name": "stdout",
     "output_type": "stream",
     "text": [
      "[125] Orbit 3100 (inds 400144:400265)\n",
      "Time[0]: 1997-06-04 02:40:00+00:00\n",
      "Saving to 125__midnight_kappa__orb3100__SW_conds.png ...\n"
     ]
    },
    {
     "name": "stdout",
     "output_type": "stream",
     "text": [
      "[126] Orbit 3102 (inds 400406:400527)\n",
      "Time[0]: 1997-06-04 07:04:00+00:00\n",
      "Saving to 126__midnight_kappa__orb3102__SW_conds.png ...\n"
     ]
    },
    {
     "name": "stdout",
     "output_type": "stream",
     "text": [
      "[127] Orbit 3108 (inds 401104:401224)\n",
      "Time[0]: 1997-06-04 19:10:00+00:00\n",
      "Saving to 127__midnight_kappa__orb3108__SW_conds.png ...\n"
     ]
    },
    {
     "name": "stdout",
     "output_type": "stream",
     "text": [
      "[128] Orbit 3119 (inds 402508:402615)\n",
      "Time[0]: 1997-06-05 20:45:00+00:00\n",
      "Saving to 128__midnight_kappa__orb3119__SW_conds.png ...\n"
     ]
    },
    {
     "name": "stdout",
     "output_type": "stream",
     "text": [
      "[129] Orbit 3123 (inds 402890:403011)\n",
      "Time[0]: 1997-06-06 04:31:00+00:00\n",
      "Saving to 129__midnight_kappa__orb3123__SW_conds.png ...\n"
     ]
    },
    {
     "name": "stdout",
     "output_type": "stream",
     "text": [
      "[130] Orbit 3130 (inds 403860:403954)\n",
      "Time[0]: 1997-06-06 21:09:00+00:00\n",
      "Saving to 130__midnight_kappa__orb3130__SW_conds.png ...\n"
     ]
    },
    {
     "name": "stdout",
     "output_type": "stream",
     "text": [
      "[131] Orbit 3133 (inds 404123:404224)\n",
      "Time[0]: 1997-06-07 04:14:00+00:00\n",
      "Saving to 131__midnight_kappa__orb3133__SW_conds.png ...\n"
     ]
    },
    {
     "name": "stdout",
     "output_type": "stream",
     "text": [
      "[132] Orbit 3154 (inds 406591:406711)\n",
      "Time[0]: 1997-06-09 02:27:00+00:00\n",
      "Saving to 132__midnight_kappa__orb3154__SW_conds.png ...\n"
     ]
    },
    {
     "name": "stdout",
     "output_type": "stream",
     "text": [
      "[133] Orbit 3155 (inds 406723:406839)\n",
      "Time[0]: 1997-06-09 04:41:00+00:00\n",
      "Saving to 133__midnight_kappa__orb3155__SW_conds.png ...\n"
     ]
    },
    {
     "name": "stdout",
     "output_type": "stream",
     "text": [
      "[134] Orbit 3157 (inds 406912:407030)\n",
      "Time[0]: 1997-06-09 07:55:00+00:00\n",
      "Saving to 134__midnight_kappa__orb3157__SW_conds.png ...\n"
     ]
    },
    {
     "name": "stdout",
     "output_type": "stream",
     "text": [
      "[135] Orbit 3160 (inds 407357:407478)\n",
      "Time[0]: 1997-06-09 15:35:00+00:00\n",
      "Saving to 135__midnight_kappa__orb3160__SW_conds.png ...\n"
     ]
    },
    {
     "name": "stdout",
     "output_type": "stream",
     "text": [
      "[136] Orbit 3161 (inds 407427:407548)\n",
      "Time[0]: 1997-06-09 16:45:00+00:00\n",
      "Saving to 136__midnight_kappa__orb3161__SW_conds.png ...\n"
     ]
    },
    {
     "name": "stdout",
     "output_type": "stream",
     "text": [
      "[137] Orbit 3166 (inds 408121:408235)\n",
      "Time[0]: 1997-06-10 05:06:00+00:00\n",
      "Saving to 137__midnight_kappa__orb3166__SW_conds.png ...\n"
     ]
    },
    {
     "name": "stdout",
     "output_type": "stream",
     "text": [
      "[138] Orbit 3166 (inds 408092:408167)\n",
      "Time[0]: 1997-06-10 03:58:00+00:00\n",
      "Saving to 138__midnight_kappa__orb3166__SW_conds.png ...\n"
     ]
    },
    {
     "name": "stdout",
     "output_type": "stream",
     "text": [
      "[139] Orbit 3167 (inds 408174:408280)\n",
      "Time[0]: 1997-06-10 06:07:00+00:00\n",
      "Saving to 139__midnight_kappa__orb3167__SW_conds.png ...\n"
     ]
    },
    {
     "name": "stdout",
     "output_type": "stream",
     "text": [
      "[140] Orbit 3178 (inds 409397:409397)\n",
      "Can't do it!\n",
      "[141] Orbit 3186 (inds 409398:409398)\n",
      "Can't do it!\n",
      "[142] Orbit 3192 (inds 409398:409430)\n",
      "Time[0]: 1997-06-12 14:59:00+00:00\n",
      "Saving to 142__midnight_kappa__orb3192__SW_conds.png ...\n"
     ]
    },
    {
     "name": "stdout",
     "output_type": "stream",
     "text": [
      "[143] Orbit 3218 (inds 412733:412854)\n",
      "Time[0]: 1997-06-14 23:12:00+00:00\n",
      "Saving to 143__midnight_kappa__orb3218__SW_conds.png ...\n"
     ]
    },
    {
     "name": "stdout",
     "output_type": "stream",
     "text": [
      "[144] Orbit 3220 (inds 413005:413124)\n",
      "Time[0]: 1997-06-15 03:46:00+00:00\n",
      "Saving to 144__midnight_kappa__orb3220__SW_conds.png ...\n"
     ]
    },
    {
     "name": "stdout",
     "output_type": "stream",
     "text": [
      "[145] Orbit 3231 (inds 414513:414633)\n",
      "Time[0]: 1997-06-16 05:19:00+00:00\n",
      "Saving to 145__midnight_kappa__orb3231__SW_conds.png ...\n"
     ]
    },
    {
     "name": "stdout",
     "output_type": "stream",
     "text": [
      "[146] Orbit 3232 (inds 414642:414763)\n",
      "Time[0]: 1997-06-16 07:31:00+00:00\n",
      "Saving to 146__midnight_kappa__orb3232__SW_conds.png ...\n"
     ]
    },
    {
     "name": "stdout",
     "output_type": "stream",
     "text": [
      "[147] Orbit 3245 (inds 415870:415876)\n",
      "Time[0]: 1997-06-17 11:59:00+00:00\n",
      "Saving to 147__midnight_kappa__orb3245__SW_conds.png ...\n"
     ]
    },
    {
     "name": "stdout",
     "output_type": "stream",
     "text": [
      "[148] Orbit 3268 (inds 418735:418857)\n",
      "Time[0]: 1997-06-19 14:10:00+00:00\n",
      "Saving to 148__midnight_kappa__orb3268__SW_conds.png ...\n"
     ]
    },
    {
     "name": "stdout",
     "output_type": "stream",
     "text": [
      "[149] Orbit 3270 (inds 419072:419193)\n",
      "Time[0]: 1997-06-19 19:47:00+00:00\n",
      "Saving to 149__midnight_kappa__orb3270__SW_conds.png ...\n"
     ]
    },
    {
     "name": "stdout",
     "output_type": "stream",
     "text": [
      "[150] Orbit 3274 (inds 419606:419727)\n",
      "Time[0]: 1997-06-20 04:41:00+00:00\n",
      "Saving to 150__midnight_kappa__orb3274__SW_conds.png ...\n"
     ]
    },
    {
     "name": "stdout",
     "output_type": "stream",
     "text": [
      "[151] Orbit 3299 (inds 422905:423026)\n",
      "Time[0]: 1997-06-22 12:03:00+00:00\n",
      "Saving to 151__midnight_kappa__orb3299__SW_conds.png ...\n"
     ]
    },
    {
     "name": "stdout",
     "output_type": "stream",
     "text": [
      "[152] Orbit 3301 (inds 423174:423295)\n",
      "Time[0]: 1997-06-22 16:32:00+00:00\n",
      "Saving to 152__midnight_kappa__orb3301__SW_conds.png ...\n"
     ]
    },
    {
     "name": "stdout",
     "output_type": "stream",
     "text": [
      "[153] Orbit 3301 (inds 423104:423225)\n",
      "Time[0]: 1997-06-22 15:22:00+00:00\n",
      "Saving to 153__midnight_kappa__orb3301__SW_conds.png ...\n"
     ]
    },
    {
     "name": "stdout",
     "output_type": "stream",
     "text": [
      "[154] Orbit 3319 (inds 425558:425680)\n",
      "Time[0]: 1997-06-24 08:27:00+00:00\n",
      "Saving to 154__midnight_kappa__orb3319__SW_conds.png ...\n"
     ]
    },
    {
     "name": "stdout",
     "output_type": "stream",
     "text": [
      "[155] Orbit 3324 (inds 426152:426273)\n",
      "Time[0]: 1997-06-24 18:27:00+00:00\n",
      "Saving to 155__midnight_kappa__orb3324__SW_conds.png ...\n"
     ]
    },
    {
     "name": "stdout",
     "output_type": "stream",
     "text": [
      "[156] Orbit 3341 (inds 428433:428552)\n",
      "Time[0]: 1997-06-26 09:15:00+00:00\n",
      "Saving to 156__midnight_kappa__orb3341__SW_conds.png ...\n"
     ]
    },
    {
     "name": "stdout",
     "output_type": "stream",
     "text": [
      "[157] Orbit 3353 (inds 430001:430122)\n",
      "Time[0]: 1997-06-27 11:51:00+00:00\n",
      "Saving to 157__midnight_kappa__orb3353__SW_conds.png ...\n"
     ]
    },
    {
     "name": "stdout",
     "output_type": "stream",
     "text": [
      "[158] Orbit 3368 (inds 431917:432032)\n",
      "Time[0]: 1997-06-28 20:07:00+00:00\n",
      "Saving to 158__midnight_kappa__orb3368__SW_conds.png ...\n"
     ]
    },
    {
     "name": "stdout",
     "output_type": "stream",
     "text": [
      "[159] Orbit 3369 (inds 432114:432234)\n",
      "Time[0]: 1997-06-28 23:30:00+00:00\n",
      "Saving to 159__midnight_kappa__orb3369__SW_conds.png ...\n"
     ]
    },
    {
     "name": "stdout",
     "output_type": "stream",
     "text": [
      "[160] Orbit 3383 (inds 433894:434015)\n",
      "Time[0]: 1997-06-30 06:29:00+00:00\n",
      "Saving to 160__midnight_kappa__orb3383__SW_conds.png ...\n"
     ]
    },
    {
     "name": "stdout",
     "output_type": "stream",
     "text": [
      "[161] Orbit 3414 (inds 437832:437953)\n",
      "Time[0]: 1997-07-03 03:21:00+00:00\n",
      "Saving to 161__midnight_kappa__orb3414__SW_conds.png ...\n"
     ]
    },
    {
     "name": "stdout",
     "output_type": "stream",
     "text": [
      "[162] Orbit 3423 (inds 438845:438845)\n",
      "Can't do it!\n",
      "[163] Orbit 3437 (inds 439903:440021)\n",
      "Time[0]: 1997-07-05 06:17:00+00:00\n",
      "Saving to 163__midnight_kappa__orb3437__SW_conds.png ...\n"
     ]
    },
    {
     "name": "stdout",
     "output_type": "stream",
     "text": [
      "[164] Orbit 3458 (inds 442615:442736)\n",
      "Time[0]: 1997-07-07 04:54:00+00:00\n",
      "Saving to 164__midnight_kappa__orb3458__SW_conds.png ...\n"
     ]
    },
    {
     "name": "stdout",
     "output_type": "stream",
     "text": [
      "[165] Orbit 3465 (inds 443497:443612)\n",
      "Time[0]: 1997-07-07 20:26:00+00:00\n",
      "Saving to 165__midnight_kappa__orb3465__SW_conds.png ...\n"
     ]
    },
    {
     "name": "stdout",
     "output_type": "stream",
     "text": [
      "[166] Orbit 3478 (inds 444993:445098)\n",
      "Time[0]: 1997-07-09 01:21:00+00:00\n",
      "Saving to 166__midnight_kappa__orb3478__SW_conds.png ...\n"
     ]
    },
    {
     "name": "stdout",
     "output_type": "stream",
     "text": [
      "[167] Orbit 3523 (inds 450493:450581)\n",
      "Time[0]: 1997-07-13 05:06:00+00:00\n",
      "Saving to 167__midnight_kappa__orb3523__SW_conds.png ...\n"
     ]
    },
    {
     "name": "stdout",
     "output_type": "stream",
     "text": [
      "[168] Orbit 3576 (inds 457049:457170)\n",
      "Time[0]: 1997-07-18 02:40:00+00:00\n",
      "Saving to 168__midnight_kappa__orb3576__SW_conds.png ...\n"
     ]
    },
    {
     "name": "stdout",
     "output_type": "stream",
     "text": [
      "[169] Orbit 3576 (inds 457052:457173)\n",
      "Time[0]: 1997-07-18 02:43:00+00:00\n",
      "Saving to 169__midnight_kappa__orb3576__SW_conds.png ...\n"
     ]
    },
    {
     "name": "stdout",
     "output_type": "stream",
     "text": [
      "[170] Orbit 3609 (inds 461423:461545)\n",
      "Time[0]: 1997-07-21 03:53:00+00:00\n",
      "Saving to 170__midnight_kappa__orb3609__SW_conds.png ...\n"
     ]
    },
    {
     "name": "stdout",
     "output_type": "stream",
     "text": [
      "[171] Orbit 3630 (inds 463980:463980)\n",
      "Can't do it!\n",
      "[172] Orbit 3639 (inds 464437:464559)\n",
      "Time[0]: 1997-07-23 22:29:00+00:00\n",
      "Saving to 172__midnight_kappa__orb3639__SW_conds.png ...\n"
     ]
    },
    {
     "name": "stdout",
     "output_type": "stream",
     "text": [
      "[173] Orbit 3661 (inds 467117:467117)\n",
      "Can't do it!\n",
      "[174] Orbit 3694 (inds 470555:470677)\n",
      "Time[0]: 1997-07-29 00:28:00+00:00\n",
      "Saving to 174__midnight_kappa__orb3694__SW_conds.png ...\n"
     ]
    },
    {
     "name": "stdout",
     "output_type": "stream",
     "text": [
      "[175] Orbit 3705 (inds 471907:471993)\n",
      "Time[0]: 1997-07-30 00:50:00+00:00\n",
      "Saving to 175__midnight_kappa__orb3705__SW_conds.png ...\n"
     ]
    },
    {
     "name": "stdout",
     "output_type": "stream",
     "text": [
      "[176] Orbit 3725 (inds 474424:474545)\n",
      "Time[0]: 1997-07-31 21:13:00+00:00\n",
      "Saving to 176__midnight_kappa__orb3725__SW_conds.png ...\n"
     ]
    },
    {
     "name": "stdout",
     "output_type": "stream",
     "text": [
      "[177] Orbit 3738 (inds 476043:476165)\n",
      "Time[0]: 1997-08-02 02:01:00+00:00\n",
      "Saving to 177__midnight_kappa__orb3738__SW_conds.png ...\n"
     ]
    },
    {
     "name": "stdout",
     "output_type": "stream",
     "text": [
      "[178] Orbit 3759 (inds 478775:478893)\n",
      "Time[0]: 1997-08-04 00:39:00+00:00\n",
      "Saving to 178__midnight_kappa__orb3759__SW_conds.png ...\n"
     ]
    },
    {
     "name": "stdout",
     "output_type": "stream",
     "text": [
      "[179] Orbit 3760 (inds 478902:479015)\n",
      "Time[0]: 1997-08-04 02:50:00+00:00\n",
      "Saving to 179__midnight_kappa__orb3760__SW_conds.png ...\n"
     ]
    },
    {
     "name": "stdout",
     "output_type": "stream",
     "text": [
      "[180] Orbit 3780 (inds 481310:481430)\n",
      "Time[0]: 1997-08-05 23:14:00+00:00\n",
      "Saving to 180__midnight_kappa__orb3780__SW_conds.png ...\n"
     ]
    },
    {
     "name": "stdout",
     "output_type": "stream",
     "text": [
      "[181] Orbit 3781 (inds 481439:481561)\n",
      "Time[0]: 1997-08-06 01:25:00+00:00\n",
      "Saving to 181__midnight_kappa__orb3781__SW_conds.png ...\n"
     ]
    },
    {
     "name": "stdout",
     "output_type": "stream",
     "text": [
      "[182] Orbit 3785 (inds 481875:481994)\n",
      "Time[0]: 1997-08-06 08:58:00+00:00\n",
      "Saving to 182__midnight_kappa__orb3785__SW_conds.png ...\n"
     ]
    },
    {
     "name": "stdout",
     "output_type": "stream",
     "text": [
      "[183] Orbit 3814 (inds 485124:485245)\n",
      "Time[0]: 1997-08-09 02:37:00+00:00\n",
      "Saving to 183__midnight_kappa__orb3814__SW_conds.png ...\n"
     ]
    },
    {
     "name": "stdout",
     "output_type": "stream",
     "text": [
      "[184] Orbit 3833 (inds 487337:487455)\n",
      "Time[0]: 1997-08-10 20:54:00+00:00\n",
      "Saving to 184__midnight_kappa__orb3833__SW_conds.png ...\n"
     ]
    },
    {
     "name": "stdout",
     "output_type": "stream",
     "text": [
      "[185] Orbit 3857 (inds 490070:490189)\n",
      "Time[0]: 1997-08-13 02:00:00+00:00\n",
      "Saving to 185__midnight_kappa__orb3857__SW_conds.png ...\n"
     ]
    },
    {
     "name": "stdout",
     "output_type": "stream",
     "text": [
      "[186] Orbit 3867 (inds 491346:491468)\n",
      "Time[0]: 1997-08-14 00:10:00+00:00\n",
      "Saving to 186__midnight_kappa__orb3867__SW_conds.png ...\n"
     ]
    },
    {
     "name": "stdout",
     "output_type": "stream",
     "text": [
      "[187] Orbit 3867 (inds 491348:491469)\n",
      "Time[0]: 1997-08-14 00:12:00+00:00\n",
      "Saving to 187__midnight_kappa__orb3867__SW_conds.png ...\n"
     ]
    },
    {
     "name": "stdout",
     "output_type": "stream",
     "text": [
      "[188] Orbit 3878 (inds 492757:492878)\n",
      "Time[0]: 1997-08-15 00:35:00+00:00\n",
      "Saving to 188__midnight_kappa__orb3878__SW_conds.png ...\n"
     ]
    },
    {
     "name": "stdout",
     "output_type": "stream",
     "text": [
      "[189] Orbit 3907 (inds 496532:496651)\n",
      "Time[0]: 1997-08-17 17:04:00+00:00\n",
      "Saving to 189__midnight_kappa__orb3907__SW_conds.png ...\n"
     ]
    },
    {
     "name": "stdout",
     "output_type": "stream",
     "text": [
      "[190] Orbit 3918 (inds 497981:498095)\n",
      "Time[0]: 1997-08-18 17:28:00+00:00\n",
      "Saving to 190__midnight_kappa__orb3918__SW_conds.png ...\n"
     ]
    },
    {
     "name": "stdout",
     "output_type": "stream",
     "text": [
      "[191] Orbit 3931 (inds 499488:499608)\n",
      "Time[0]: 1997-08-19 22:11:00+00:00\n",
      "Saving to 191__midnight_kappa__orb3931__SW_conds.png ...\n"
     ]
    },
    {
     "name": "stdout",
     "output_type": "stream",
     "text": [
      "[192] Orbit 3942 (inds 500934:501045)\n",
      "Time[0]: 1997-08-20 22:35:00+00:00\n",
      "Saving to 192__midnight_kappa__orb3942__SW_conds.png ...\n"
     ]
    },
    {
     "name": "stdout",
     "output_type": "stream",
     "text": [
      "[193] Orbit 3953 (inds 502369:502488)\n",
      "Time[0]: 1997-08-21 22:57:00+00:00\n",
      "Saving to 193__midnight_kappa__orb3953__SW_conds.png ...\n"
     ]
    },
    {
     "name": "stdout",
     "output_type": "stream",
     "text": [
      "[194] Orbit 3986 (inds 506743:506865)\n",
      "Time[0]: 1997-08-25 00:09:00+00:00\n",
      "Saving to 194__midnight_kappa__orb3986__SW_conds.png ...\n"
     ]
    }
   ],
   "source": [
    "########################################\n",
    "# Test a plot\n",
    "########################################\n",
    "tIncremSeconds = 60*60\n",
    "outDir='/SPENCEdata/Research/Satellites/FAST/kappa_dists/plots/20180314/'\n",
    "outFPref = 'midnight_kappa__orb'\n",
    "outFSuff = '__SW_conds.png'\n",
    "\n",
    "checkForExistingPlots = 1\n",
    "# k=0\n",
    "if 'doPlots' in globals() and doPlots == 1:\n",
    "    for k in range(0,kappaRec.tmpOrb.size-1):\n",
    "\n",
    "        # tmpInds = ((omni.mag_utc > (t1UTC[k]-tIncremSeconds)) & (omni.mag_utc < (t2UTC[k]+tIncremSeconds)))\n",
    "        # print(omni.mag_utc[tmpInds].size)\n",
    "        outFName='{:02}__'.format(k)+outFPref+'{}'.format(kappaRec.tmpOrb[k])+outFSuff\n",
    "        if 'checkForExistingPlots' in globals() and checkForExistingPlots == 1:\n",
    "            tmpPath=Path(outDir+outFName)\n",
    "            if tmpPath.exists():\n",
    "                print(\"Already have {} ... Skipping!\".format(outFName))\n",
    "                continue\n",
    "        tmpIndStart=np.argmin(np.abs(omni.mag_utc-(t1UTC[k]-tIncremSeconds)))\n",
    "        tmpIndStop=np.argmin(np.abs(omni.mag_utc-(t2UTC[k]+tIncremSeconds)))\n",
    "        print(\"[{:02}] Orbit {} (inds {}:{})\".format(k,kappaRec.tmpOrb[k],tmpIndStart,tmpIndStop))\n",
    "        if tmpIndStart == tmpIndStop or (tmpIndStop-tmpIndStart) == 1 or (tmpIndStop < tmpIndStart):\n",
    "            print(\"Can't do it!\")\n",
    "            continue\n",
    "        bx=omni.bx[tmpIndStart:tmpIndStop]\n",
    "        by=omni.by_gsm[tmpIndStart:tmpIndStop]\n",
    "        bz=omni.bz_gsm[tmpIndStart:tmpIndStop]\n",
    "        time=[datetime.datetime.fromtimestamp(tid,tz=datetime.timezone.utc) for tid in omni.mag_utc[tmpIndStart:tmpIndStop]]\n",
    "        dates = matplotlib.dates.date2num(time)\n",
    "        print(\"Time[0]: {}\".format(time[0]))\n",
    "        fig, ax = plt.subplots(figsize=(20,13))\n",
    "\n",
    "        # Plot the data\n",
    "        ax.plot_date(dates, bx, '-',linewidth=3)\n",
    "        ax.plot_date(dates, by, '-',linewidth=3)\n",
    "        ax.plot_date(dates, bz, '-',linewidth=3)\n",
    "    \n",
    "        # format the ticks\n",
    "        ax.yaxis.set_minor_locator(yminorLocator)\n",
    "        ax.yaxis.set_major_locator(ymajorLocator)\n",
    "\n",
    "        ax.xaxis.set_major_locator(xAxisHours)\n",
    "        ax.xaxis.set_major_formatter(xAxisHoursFmt)\n",
    "        ax.xaxis.set_minor_locator(xAxisMinutes)\n",
    "        # ax.set_xlim(time[0], time[-1])\n",
    "        # ax.autoscale_view()\n",
    "\n",
    "        # Grid and legend\n",
    "        ax.grid(which='minor',axis='both')\n",
    "        ax.legend(['Bx','By (GSM)','Bz (GSM)'],fontsize=legFontSize)\n",
    "\n",
    "        # Title\n",
    "        ax.set_title('Orbit {} ('.format(kappaRec.tmpOrb[k])+time[0].strftime('%Y-%m-%d')+')')\n",
    "        ax.axvline(x=t1s[k],linestyle='dashed',linewidth=2.1,color='r')\n",
    "        ax.axvline(x=t2s[k],linestyle='dashed',linewidth=2.1,color='r')\n",
    "        print(\"Saving to {} ...\".format(outFName))\n",
    "        plt.savefig(outDir+outFName)\n",
    "        plt.close()"
   ]
  },
  {
   "cell_type": "code",
   "execution_count": 33,
   "metadata": {
    "autoscroll": false,
    "collapsed": false,
    "ein.tags": "worksheet-0",
    "slideshow": {
     "slide_type": "-"
    }
   },
   "outputs": [],
   "source": [
    "?time"
   ]
  },
  {
   "cell_type": "code",
   "execution_count": 184,
   "metadata": {
    "autoscroll": false,
    "collapsed": false,
    "ein.tags": "worksheet-0",
    "slideshow": {
     "slide_type": "-"
    }
   },
   "outputs": [
    {
     "name": "stdout",
     "output_type": "stream",
     "text": [
      "Orbit 2585\n",
      "Orbit 1217\n",
      "Orbit 1368\n",
      "Orbit 2487\n",
      "Orbit 2597\n",
      "Orbit 1607\n",
      "Orbit 1294\n",
      "Orbit 2640\n",
      "Orbit 2347\n",
      "Orbit 1152\n",
      "Orbit 2379\n",
      "Orbit 3956\n",
      "Orbit 2586\n",
      "Orbit 2390\n",
      "Orbit 2685\n",
      "Orbit 1259\n",
      "Orbit 3741\n",
      "Orbit 1940\n",
      "Orbit 1272\n",
      "Orbit 2702\n",
      "Orbit 1232\n",
      "Orbit 3848\n",
      "Orbit 2446\n",
      "Orbit 2381\n",
      "Orbit 1182\n",
      "Orbit 2822\n",
      "Orbit 3846\n",
      "Orbit 1562\n",
      "Orbit 1855\n",
      "Orbit 1758\n",
      "Orbit 3592\n",
      "Orbit 1433\n",
      "Orbit 3991\n",
      "Orbit 3783\n",
      "Orbit 1293\n",
      "Orbit 3785\n",
      "Orbit 1152\n",
      "Orbit 1991\n",
      "Orbit 1952\n",
      "Orbit 3837\n",
      "Orbit 1238\n",
      "Orbit 3815\n"
     ]
    }
   ],
   "source": [
    "tIncremSeconds = 60*60\n",
    "for k in range(0,kappaRec.tmpOrb.size-1):\n",
    "    print(\"Orbit {}\".format(kappaRec.tmpOrb[k]))\n",
    "    # tmpInds = ((omni.mag_utc > (t1UTC[k]-tIncremSeconds)) & (omni.mag_utc < (t2UTC[k]+tIncremSeconds)))\n",
    "    # print(omni.mag_utc[tmpInds].size)\n",
    "    # tmpIndStart=np.argmin(np.abs(omni.mag_utc-(t1UTC[k]-tIncremSeconds)))\n",
    "    # tmpIndStop=np.argmin(np.abs(omni.mag_utc-(t2UTC[k]+tIncremSeconds)))\n",
    "#    print(\"{}:{}\".format(tmpIndStart,tmpIndStop))"
   ]
  }
 ],
 "metadata": {
  "kernelspec": {
   "display_name": "Python 3",
   "name": "python3"
  },
  "name": "journal__20180314__plot_imf_conditions_for_midnight_orbits.ipynb"
 },
 "nbformat": 4,
 "nbformat_minor": 2
}
