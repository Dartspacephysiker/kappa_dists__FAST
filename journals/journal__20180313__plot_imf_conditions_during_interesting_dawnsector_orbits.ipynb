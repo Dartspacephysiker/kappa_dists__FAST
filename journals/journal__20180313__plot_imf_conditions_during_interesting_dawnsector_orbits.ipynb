{
 "cells": [
  {
   "cell_type": "code",
   "execution_count": 176,
   "metadata": {
    "autoscroll": false,
    "collapsed": false,
    "ein.tags": "worksheet-0",
    "slideshow": {
     "slide_type": "-"
    }
   },
   "outputs": [
    {
     "name": "stdout",
     "output_type": "stream",
     "text": [
      "['/home/spencerh/python/hatch_python_utils/', '/home/spencerh/python/hatch_python_utils/', '', '/usr/lib/python35.zip', '/usr/lib/python3.5', '/usr/lib/python3.5/plat-x86_64-linux-gnu', '/usr/lib/python3.5/lib-dynload', '/usr/local/lib/python3.5/dist-packages', '/usr/lib/python3/dist-packages', '/usr/local/lib/python3.5/dist-packages/IPython/extensions', '/home/spencerh/.ipython', '/home/spencerh/.emacs.d/elpa/ein-20180227.625/']\n"
     ]
    }
   ],
   "source": [
    "import sys\n",
    "import os\n",
    "import datetime\n",
    "import calendar\n",
    "import numpy as np\n",
    "# for a in os.environ:\n",
    "#     print(a)\n",
    "sys.path.insert(0,'/home/spencerh/python/hatch_python_utils/')\n",
    "#sys.path\n",
    "print(sys.path)\n",
    "\n",
    "doPlots = 1"
   ]
  },
  {
   "cell_type": "code",
   "execution_count": 2,
   "metadata": {
    "autoscroll": false,
    "collapsed": false,
    "ein.tags": "worksheet-0",
    "slideshow": {
     "slide_type": "-"
    }
   },
   "outputs": [
    {
     "name": "stdout",
     "output_type": "stream",
     "text": [
      "Opening culled_OMNI_magdata.dat ...\n"
     ]
    },
    {
     "name": "stdout",
     "output_type": "stream",
     "text": [
      "--------------------------------------------------\n",
      "Date: Fri May  6 16:53:37 2016\n",
      "User: spencerh\n",
      "Host: thelonious.dartmouth.edu\n",
      "--------------------------------------------------\n",
      "Format: 12\n",
      "Architecture: x86_64\n",
      "Operating System: linux\n",
      "IDL Version: 8.4\n",
      "--------------------------------------------------\n",
      "Successfully read 20 records of which:\n",
      " - 1 are of type TIMESTAMP\n",
      " - 17 are of type VARIABLE\n",
      " - 1 are of type VERSION\n",
      "--------------------------------------------------\n",
      "Available variables:\n",
      " - cone_overclock_gse [<class 'numpy.ndarray'>]\n",
      " - cone_overclock_gsm [<class 'numpy.ndarray'>]\n",
      " - thetacone_gsm [<class 'numpy.ndarray'>]\n",
      " - mag_utc [<class 'numpy.ndarray'>]\n",
      " - phiclock_gse [<class 'numpy.ndarray'>]\n",
      " - phiclock_gsm [<class 'numpy.ndarray'>]\n",
      " - goodmag_goodtimes_i [<class 'numpy.ndarray'>]\n",
      " - bz_gse [<class 'numpy.ndarray'>]\n",
      " - bxy_over_bz_gse [<class 'numpy.ndarray'>]\n",
      " - bxy_over_bz_gsm [<class 'numpy.ndarray'>]\n",
      " - bt_gsm [<class 'numpy.ndarray'>]\n",
      " - bx [<class 'numpy.ndarray'>]\n",
      " - by_gsm [<class 'numpy.ndarray'>]\n",
      " - by_gse [<class 'numpy.ndarray'>]\n",
      " - bz_gsm [<class 'numpy.ndarray'>]\n",
      " - bt_gse [<class 'numpy.ndarray'>]\n",
      " - thetacone_gse [<class 'numpy.ndarray'>]\n",
      "--------------------------------------------------\n"
     ]
    }
   ],
   "source": [
    "import omni_utils\n",
    "omni = omni_utils.load_omniDB()"
   ]
  },
  {
   "cell_type": "code",
   "execution_count": 43,
   "metadata": {
    "autoscroll": false,
    "collapsed": false,
    "ein.tags": "worksheet-0",
    "slideshow": {
     "slide_type": "-"
    }
   },
   "outputs": [
    {
     "data": {
      "text/plain": [
       "'23:11:49'"
      ]
     },
     "execution_count": 43,
     "metadata": {},
     "output_type": "execute_result"
    }
   ],
   "source": [
    "kappaRec.t2Str[1]"
   ]
  },
  {
   "cell_type": "code",
   "execution_count": 24,
   "metadata": {
    "autoscroll": false,
    "collapsed": false,
    "ein.tags": "worksheet-0",
    "slideshow": {
     "slide_type": "-"
    }
   },
   "outputs": [
    {
     "name": "stdout",
     "output_type": "stream",
     "text": [
      "838857600.0\n",
      "1996-07-31 20:00:00\n",
      "838857600.0\n",
      "1996-07-31 20:00:00\n"
     ]
    }
   ],
   "source": [
    "# As seconds since 1970:\n",
    "print(omni.mag_utc[0])\n",
    "# As nicely formatted thing:\n",
    "print(datetime.datetime.fromtimestamp(omni.mag_utc[0]))\n",
    "# Convert from datetime to UTC\n",
    "print(datetime.datetime.fromtimestamp(omni.mag_utc[0],tz=datetime.timezone.utc).replace(tzinfo=datetime.timezone.utc).timestamp())\n",
    "# And then back\n",
    "print(datetime.datetime.fromtimestamp(838857600.0))"
   ]
  },
  {
   "cell_type": "code",
   "execution_count": 39,
   "metadata": {
    "autoscroll": false,
    "collapsed": false,
    "ein.tags": "worksheet-0",
    "slideshow": {
     "slide_type": "-"
    }
   },
   "outputs": [],
   "source": [
    "# Read in the ol' txtFile\n",
    "kappaTxtFile='/SPENCEdata/Research/Satellites/FAST/espec_identification/txtOutput/20180312--mono_aurora_streaks__3-9MLT__1000-3999ORB__300-4300ALT__minTStreak_sec_60.txt'\n",
    "kappaFmt=np.dtype([('tmpOrb',np.int32),('MLT',np.float64),('ILAT',np.float64),('ALT',np.float64),('t1Str',np.unicode_,19),('t2Str',np.unicode_,8),('t_streakLen',np.int32),('nPts',np.int32),('dt_avg',np.float64),('avg_current',np.float64)])\n",
    "kappaInfo = np.genfromtxt(kappaTxtFile,dtype=kappaFmt,skip_header=1)\n",
    "kappaRec = np.rec.array(kappaInfo)"
   ]
  },
  {
   "cell_type": "code",
   "execution_count": 171,
   "metadata": {
    "autoscroll": false,
    "collapsed": false,
    "ein.tags": "worksheet-0",
    "slideshow": {
     "slide_type": "-"
    }
   },
   "outputs": [],
   "source": [
    "t2Str = kappaRec.t2Str\n",
    "t1Str = kappaRec.t1Str\n",
    "\n",
    "# See if we can do substrings\n",
    "# this = [x[0:11] for x in t1Str]\n",
    "# print(this)\n",
    "#this?\n",
    "\n",
    "# Yup, now combine 'em all\n",
    "this = [\"{}{}\".format(t1_[0:11],t2_) for t1_, t2_ in zip(t1Str,t2Str)]\n",
    "\n",
    "# Print 'em for kicks\n",
    "# for t1, t2 in zip(t1Str,this):\n",
    "#     print(t1,\", \",t2)\n",
    "\n",
    "# And convert to datetime objects\n",
    "t1s=[datetime.datetime.strptime(t1,'%Y-%m-%d/%H:%M:%S') for t1 in t1Str]\n",
    "t2s=[datetime.datetime.strptime(t2,'%Y-%m-%d/%H:%M:%S') for t2 in this]\n",
    "\n",
    "# Does it all work? Looks like the answer is 'yes'\n",
    "# for t1,t2,bros in zip(t1s,t2s,kappaRec.t_streakLen):\n",
    "#     print(t1,\",\",t2,\",\",t2-t1,\",\",bros)\n",
    "\n",
    "# Times before and after\n",
    "# tIncrem=datetime.timedelta(hours=1)\n",
    "# for t1 in t1s:\n",
    "#    print(t1-tIncrem,\", \",t1+tIncrem)\n"
   ]
  },
  {
   "cell_type": "code",
   "execution_count": 172,
   "metadata": {
    "autoscroll": false,
    "collapsed": false,
    "ein.tags": "worksheet-0",
    "slideshow": {
     "slide_type": "-"
    }
   },
   "outputs": [],
   "source": [
    "#t1s.replace(tzinfo=datetime.timezone.utc)\n",
    "t1Upp = [t1.replace(tzinfo=datetime.timezone.utc) for t1 in t1s]\n",
    "t2Upp = [t2.replace(tzinfo=datetime.timezone.utc) for t2 in t2s]\n",
    "t1s   = t1Upp\n",
    "t2s   = t2Upp\n",
    "\n",
    "t1UTC = [t1.timestamp() for t1 in t1s]\n",
    "t2UTC = [t2.timestamp() for t2 in t2s]"
   ]
  },
  {
   "cell_type": "code",
   "execution_count": 182,
   "metadata": {
    "autoscroll": false,
    "collapsed": false,
    "ein.tags": "worksheet-0",
    "slideshow": {
     "slide_type": "-"
    }
   },
   "outputs": [],
   "source": [
    "########################################\n",
    "# Set up plots\n",
    "########################################\n",
    "import matplotlib\n",
    "from matplotlib import pyplot as plt\n",
    "from matplotlib.dates import YearLocator, MonthLocator, DayLocator, HourLocator, MinuteLocator, DateFormatter\n",
    "from matplotlib.ticker import (MultipleLocator, FormatStrFormatter,\n",
    "                               AutoMinorLocator)\n",
    "# Set font sizes for things\n",
    "legFontSize = 20\n",
    "tickFontSize=25\n",
    "titleFontSize=30\n",
    "matplotlib.rc('xtick',labelsize=tickFontSize)\n",
    "matplotlib.rc('ytick',labelsize=tickFontSize)\n",
    "matplotlib.rc('axes',titlesize=titleFontSize)\n",
    "\n",
    "# Set up ticks\n",
    "ymajorLocator = MultipleLocator(1)\n",
    "yminorLocator = MultipleLocator(0.25)\n",
    "\n",
    "xAxisHours = MinuteLocator(interval=30)   # every hour\n",
    "xAxisMinutes = MinuteLocator(interval=5)  # every minute\n",
    "xAxisHoursFmt = DateFormatter('%H:%M')\n"
   ]
  },
  {
   "cell_type": "code",
   "execution_count": 183,
   "metadata": {
    "autoscroll": false,
    "collapsed": false,
    "ein.tags": "worksheet-0",
    "slideshow": {
     "slide_type": "slide"
    }
   },
   "outputs": [
    {
     "name": "stdout",
     "output_type": "stream",
     "text": [
      "[00] Orbit 2585 (inds 335796:335919)\n",
      "Saving to 00__dawnsector_kappa__orb2585__SW_conds.png ...\n"
     ]
    },
    {
     "name": "stdout",
     "output_type": "stream",
     "text": [
      "[01] Orbit 1217 (inds 171195:171318)\n",
      "Saving to 01__dawnsector_kappa__orb1217__SW_conds.png ...\n"
     ]
    },
    {
     "name": "stdout",
     "output_type": "stream",
     "text": [
      "[02] Orbit 1368 (inds 189803:189925)\n",
      "Saving to 02__dawnsector_kappa__orb1368__SW_conds.png ...\n"
     ]
    },
    {
     "name": "stdout",
     "output_type": "stream",
     "text": [
      "[03] Orbit 2487 (inds 323367:323483)\n",
      "Saving to 03__dawnsector_kappa__orb2487__SW_conds.png ...\n"
     ]
    },
    {
     "name": "stdout",
     "output_type": "stream",
     "text": [
      "[04] Orbit 2597 (inds 337240:337347)\n",
      "Saving to 04__dawnsector_kappa__orb2597__SW_conds.png ...\n"
     ]
    },
    {
     "name": "stdout",
     "output_type": "stream",
     "text": [
      "[05] Orbit 1607 (inds 214718:214828)\n",
      "Saving to 05__dawnsector_kappa__orb1607__SW_conds.png ...\n"
     ]
    },
    {
     "name": "stdout",
     "output_type": "stream",
     "text": [
      "[06] Orbit 1294 (inds 180611:180733)\n",
      "Saving to 06__dawnsector_kappa__orb1294__SW_conds.png ...\n"
     ]
    },
    {
     "name": "stdout",
     "output_type": "stream",
     "text": [
      "[07] Orbit 2640 (inds 342210:342210)\n",
      "Can't do it!\n",
      "[08] Orbit 2347 (inds 306144:306265)\n",
      "Saving to 08__dawnsector_kappa__orb2347__SW_conds.png ...\n"
     ]
    },
    {
     "name": "stdout",
     "output_type": "stream",
     "text": [
      "[09] Orbit 1152 (inds 164181:164262)\n",
      "Saving to 09__dawnsector_kappa__orb1152__SW_conds.png ...\n"
     ]
    },
    {
     "name": "stdout",
     "output_type": "stream",
     "text": [
      "[10] Orbit 2379 (inds 309667:309787)\n",
      "Saving to 10__dawnsector_kappa__orb2379__SW_conds.png ...\n"
     ]
    },
    {
     "name": "stdout",
     "output_type": "stream",
     "text": [
      "[11] Orbit 3956 (inds 502698:502818)\n",
      "Saving to 11__dawnsector_kappa__orb3956__SW_conds.png ...\n"
     ]
    },
    {
     "name": "stdout",
     "output_type": "stream",
     "text": [
      "[12] Orbit 2586 (inds 335928:336042)\n",
      "Saving to 12__dawnsector_kappa__orb2586__SW_conds.png ...\n"
     ]
    },
    {
     "name": "stdout",
     "output_type": "stream",
     "text": [
      "[13] Orbit 2390 (inds 311109:311228)\n",
      "Saving to 13__dawnsector_kappa__orb2390__SW_conds.png ...\n"
     ]
    },
    {
     "name": "stdout",
     "output_type": "stream",
     "text": [
      "[14] Orbit 2685 (inds 347827:347946)\n",
      "Saving to 14__dawnsector_kappa__orb2685__SW_conds.png ...\n"
     ]
    },
    {
     "name": "stdout",
     "output_type": "stream",
     "text": [
      "[15] Orbit 1259 (inds 175986:176104)\n",
      "Saving to 15__dawnsector_kappa__orb1259__SW_conds.png ...\n"
     ]
    },
    {
     "name": "stdout",
     "output_type": "stream",
     "text": [
      "[16] Orbit 3741 (inds 476368:476490)\n",
      "Saving to 16__dawnsector_kappa__orb3741__SW_conds.png ...\n"
     ]
    },
    {
     "name": "stdout",
     "output_type": "stream",
     "text": [
      "[17] Orbit 1940 (inds 255679:255796)\n",
      "Saving to 17__dawnsector_kappa__orb1940__SW_conds.png ...\n"
     ]
    },
    {
     "name": "stdout",
     "output_type": "stream",
     "text": [
      "[18] Orbit 1272 (inds 177719:177840)\n",
      "Saving to 18__dawnsector_kappa__orb1272__SW_conds.png ...\n"
     ]
    },
    {
     "name": "stdout",
     "output_type": "stream",
     "text": [
      "[19] Orbit 2702 (inds 349944:350054)\n",
      "Saving to 19__dawnsector_kappa__orb2702__SW_conds.png ...\n"
     ]
    },
    {
     "name": "stdout",
     "output_type": "stream",
     "text": [
      "[20] Orbit 1232 (inds 173170:173292)\n",
      "Saving to 20__dawnsector_kappa__orb1232__SW_conds.png ...\n"
     ]
    },
    {
     "name": "stdout",
     "output_type": "stream",
     "text": [
      "[21] Orbit 3848 (inds 489107:489228)\n",
      "Saving to 21__dawnsector_kappa__orb3848__SW_conds.png ...\n"
     ]
    },
    {
     "name": "stdout",
     "output_type": "stream",
     "text": [
      "[22] Orbit 2446 (inds 318156:318277)\n",
      "Saving to 22__dawnsector_kappa__orb2446__SW_conds.png ...\n"
     ]
    },
    {
     "name": "stdout",
     "output_type": "stream",
     "text": [
      "[23] Orbit 2381 (inds 309922:310043)\n",
      "Saving to 23__dawnsector_kappa__orb2381__SW_conds.png ...\n"
     ]
    },
    {
     "name": "stdout",
     "output_type": "stream",
     "text": [
      "[24] Orbit 1182 (inds 166719:166840)\n",
      "Saving to 24__dawnsector_kappa__orb1182__SW_conds.png ...\n"
     ]
    },
    {
     "name": "stdout",
     "output_type": "stream",
     "text": [
      "[25] Orbit 2822 (inds 365201:365317)\n",
      "Saving to 25__dawnsector_kappa__orb2822__SW_conds.png ...\n"
     ]
    },
    {
     "name": "stdout",
     "output_type": "stream",
     "text": [
      "[26] Orbit 3846 (inds 488847:488966)\n",
      "Saving to 26__dawnsector_kappa__orb3846__SW_conds.png ...\n"
     ]
    },
    {
     "name": "stdout",
     "output_type": "stream",
     "text": [
      "[27] Orbit 1562 (inds 209527:209628)\n"
     ]
    },
    {
     "name": "stdout",
     "output_type": "stream",
     "text": [
      "Saving to 27__dawnsector_kappa__orb1562__SW_conds.png ...\n"
     ]
    },
    {
     "name": "stdout",
     "output_type": "stream",
     "text": [
      "[28] Orbit 1855 (inds 245079:245200)\n",
      "Saving to 28__dawnsector_kappa__orb1855__SW_conds.png ...\n"
     ]
    },
    {
     "name": "stdout",
     "output_type": "stream",
     "text": [
      "[29] Orbit 1758 (inds 233133:233254)\n",
      "Saving to 29__dawnsector_kappa__orb1758__SW_conds.png ...\n"
     ]
    },
    {
     "name": "stdout",
     "output_type": "stream",
     "text": [
      "[30] Orbit 3592 (inds 459082:459203)\n",
      "Saving to 30__dawnsector_kappa__orb3592__SW_conds.png ...\n"
     ]
    },
    {
     "name": "stdout",
     "output_type": "stream",
     "text": [
      "[31] Orbit 1433 (inds 195573:195573)\n",
      "Can't do it!\n",
      "[32] Orbit 3991 (inds 507406:507520)\n",
      "Saving to 32__dawnsector_kappa__orb3991__SW_conds.png ...\n"
     ]
    },
    {
     "name": "stdout",
     "output_type": "stream",
     "text": [
      "[33] Orbit 3783 (inds 481635:481747)\n",
      "Saving to 33__dawnsector_kappa__orb3783__SW_conds.png ...\n"
     ]
    },
    {
     "name": "stdout",
     "output_type": "stream",
     "text": [
      "[34] Orbit 1293 (inds 180480:180601)\n",
      "Saving to 34__dawnsector_kappa__orb1293__SW_conds.png ...\n"
     ]
    },
    {
     "name": "stdout",
     "output_type": "stream",
     "text": [
      "[35] Orbit 3785 (inds 481875:481994)\n",
      "Saving to 35__dawnsector_kappa__orb3785__SW_conds.png ...\n"
     ]
    },
    {
     "name": "stdout",
     "output_type": "stream",
     "text": [
      "[36] Orbit 1152 (inds 164184:164262)\n",
      "Saving to 36__dawnsector_kappa__orb1152__SW_conds.png ...\n"
     ]
    },
    {
     "name": "stdout",
     "output_type": "stream",
     "text": [
      "[37] Orbit 1991 (inds 262282:262394)\n",
      "Saving to 37__dawnsector_kappa__orb1991__SW_conds.png ...\n"
     ]
    },
    {
     "name": "stdout",
     "output_type": "stream",
     "text": [
      "[38] Orbit 1952 (inds 257220:257335)\n",
      "Saving to 38__dawnsector_kappa__orb1952__SW_conds.png ...\n"
     ]
    },
    {
     "name": "stdout",
     "output_type": "stream",
     "text": [
      "[39] Orbit 3837 (inds 487710:487816)\n",
      "Saving to 39__dawnsector_kappa__orb3837__SW_conds.png ...\n"
     ]
    },
    {
     "name": "stdout",
     "output_type": "stream",
     "text": [
      "[40] Orbit 1238 (inds 173972:174026)\n",
      "Saving to 40__dawnsector_kappa__orb1238__SW_conds.png ...\n"
     ]
    },
    {
     "name": "stdout",
     "output_type": "stream",
     "text": [
      "[41] Orbit 3815 (inds 485191:485312)\n",
      "Saving to 41__dawnsector_kappa__orb3815__SW_conds.png ...\n"
     ]
    }
   ],
   "source": [
    "########################################\n",
    "# Test a plot\n",
    "########################################\n",
    "tIncremSeconds = 60*60\n",
    "outDir='/SPENCEdata/Research/Satellites/FAST/kappa_dists/plots/20180313/'\n",
    "outFPref = 'dawnsector_kappa__orb'\n",
    "outFSuff = '__SW_conds.png'\n",
    "\n",
    "# k=0\n",
    "if 'doPlots' in globals() and doPlots == 1:\n",
    "    for k in range(0,kappaRec.tmpOrb.size-1):\n",
    "\n",
    "        # tmpInds = ((omni.mag_utc > (t1UTC[k]-tIncremSeconds)) & (omni.mag_utc < (t2UTC[k]+tIncremSeconds)))\n",
    "        # print(omni.mag_utc[tmpInds].size)\n",
    "        tmpIndStart=np.argmin(np.abs(omni.mag_utc-(t1UTC[k]-tIncremSeconds)))\n",
    "        tmpIndStop=np.argmin(np.abs(omni.mag_utc-(t2UTC[k]+tIncremSeconds)))\n",
    "        print(\"[{:02}] Orbit {} (inds {}:{})\".format(k,kappaRec.tmpOrb[k],tmpIndStart,tmpIndStop))\n",
    "        if tmpIndStart == tmpIndStop:\n",
    "            print(\"Can't do it!\")\n",
    "            continue\n",
    "        bx=omni.bx[tmpIndStart:tmpIndStop]\n",
    "        by=omni.by_gsm[tmpIndStart:tmpIndStop]\n",
    "        bz=omni.bz_gsm[tmpIndStart:tmpIndStop]\n",
    "        time=[datetime.datetime.fromtimestamp(tid,tz=datetime.timezone.utc) for tid in omni.mag_utc[tmpIndStart:tmpIndStop]]\n",
    "        dates = matplotlib.dates.date2num(time)\n",
    "        fig, ax = plt.subplots(figsize=(20,13))\n",
    "\n",
    "        # Plot the data\n",
    "        ax.plot_date(dates, bx, '-',linewidth=3)\n",
    "        ax.plot_date(dates, by, '-',linewidth=3)\n",
    "        ax.plot_date(dates, bz, '-',linewidth=3)\n",
    "    \n",
    "        # format the ticks\n",
    "        ax.yaxis.set_minor_locator(yminorLocator)\n",
    "        ax.yaxis.set_major_locator(ymajorLocator)\n",
    "\n",
    "        ax.xaxis.set_major_locator(xAxisHours)\n",
    "        ax.xaxis.set_major_formatter(xAxisHoursFmt)\n",
    "        ax.xaxis.set_minor_locator(xAxisMinutes)\n",
    "        # ax.set_xlim(time[0], time[-1])\n",
    "        # ax.autoscale_view()\n",
    "\n",
    "        # Grid and legend\n",
    "        ax.grid(which='minor',axis='both')\n",
    "        ax.legend(['Bx','By (GSM)','Bz (GSM)'],fontsize=legFontSize)\n",
    "\n",
    "        # Title\n",
    "        ax.set_title('Orbit {} ('.format(kappaRec.tmpOrb[k])+time[0].strftime('%Y-%m-%d')+')')\n",
    "        ax.axvline(x=t1s[k],linestyle='dashed',linewidth=2.1,color='r')\n",
    "        ax.axvline(x=t2s[k],linestyle='dashed',linewidth=2.1,color='r')\n",
    "        outFName='{:02}__'.format(k)+outFPref+'{}'.format(kappaRec.tmpOrb[k])+outFSuff\n",
    "        print(\"Saving to {} ...\".format(outFName))\n",
    "        plt.savefig(outDir+outFName)\n",
    "        plt.close()"
   ]
  },
  {
   "cell_type": "code",
   "execution_count": 166,
   "metadata": {
    "autoscroll": false,
    "collapsed": false,
    "ein.tags": "worksheet-0",
    "slideshow": {
     "slide_type": "-"
    }
   },
   "outputs": [
    {
     "data": {
      "text/plain": [
       "datetime.datetime(1996, 12, 13, 21, 46, tzinfo=datetime.timezone.utc)"
      ]
     },
     "execution_count": 166,
     "metadata": {},
     "output_type": "execute_result"
    }
   ],
   "source": [
    "time[0]"
   ]
  },
  {
   "cell_type": "code",
   "execution_count": 111,
   "metadata": {
    "autoscroll": false,
    "collapsed": false,
    "ein.tags": "worksheet-0",
    "slideshow": {
     "slide_type": "-"
    }
   },
   "outputs": [
    {
     "name": "stdout",
     "output_type": "stream",
     "text": [
      "Orbit 2585\n",
      "336027:336150\n",
      "Orbit 1217\n",
      "171493:171616\n",
      "Orbit 1368\n"
     ]
    },
    {
     "name": "stdout",
     "output_type": "stream",
     "text": [
      "190028:190130\n",
      "Orbit 2487\n",
      "323595:323715\n",
      "Orbit 2597\n",
      "337389:337510\n",
      "Orbit 1607\n"
     ]
    },
    {
     "name": "stdout",
     "output_type": "stream",
     "text": [
      "215000:215113\n",
      "Orbit 1294\n",
      "180911:181033\n",
      "Orbit 2640\n",
      "342280:342397\n",
      "Orbit 2347\n"
     ]
    },
    {
     "name": "stdout",
     "output_type": "stream",
     "text": [
      "306438:306556\n",
      "Orbit 1152\n",
      "164262:164262\n",
      "Orbit 2379\n",
      "309965:310087\n",
      "Orbit 3956\n"
     ]
    },
    {
     "name": "stdout",
     "output_type": "stream",
     "text": [
      "502936:503058\n",
      "Orbit 2586\n",
      "336151:336253\n",
      "Orbit 2390\n",
      "311407:311514\n",
      "Orbit 2685\n"
     ]
    },
    {
     "name": "stdout",
     "output_type": "stream",
     "text": [
      "348063:348184\n",
      "Orbit 1259\n",
      "176283:176404\n",
      "Orbit 3741\n",
      "476608:476728\n",
      "Orbit 1940\n"
     ]
    },
    {
     "name": "stdout",
     "output_type": "stream",
     "text": [
      "255971:256090\n",
      "Orbit 1272\n",
      "178019:178140\n",
      "Orbit 2702\n",
      "350170:350292\n",
      "Orbit 1232\n"
     ]
    },
    {
     "name": "stdout",
     "output_type": "stream",
     "text": [
      "173467:173587\n",
      "Orbit 3848\n",
      "489319:489436\n",
      "Orbit 2446\n",
      "318450:318566\n",
      "Orbit 2381\n"
     ]
    },
    {
     "name": "stdout",
     "output_type": "stream",
     "text": [
      "310222:310341\n",
      "Orbit 1182\n",
      "167019:167127\n",
      "Orbit 2822\n",
      "365435:365525\n",
      "Orbit 3846\n"
     ]
    },
    {
     "name": "stdout",
     "output_type": "stream",
     "text": [
      "489081:489202\n",
      "Orbit 1562\n",
      "209804:209909\n",
      "Orbit 1855\n",
      "245379:245500\n",
      "Orbit 1758\n"
     ]
    },
    {
     "name": "stdout",
     "output_type": "stream",
     "text": [
      "233431:233550\n",
      "Orbit 3592\n",
      "459322:459443\n",
      "Orbit 1433\n",
      "195573:195573\n",
      "Orbit 3991\n"
     ]
    },
    {
     "name": "stdout",
     "output_type": "stream",
     "text": [
      "507639:507760\n",
      "Orbit 3783\n",
      "481858:481977\n",
      "Orbit 1293\n",
      "180780:180901\n",
      "Orbit 3785\n"
     ]
    },
    {
     "name": "stdout",
     "output_type": "stream",
     "text": [
      "482109:482228\n",
      "Orbit 1152\n",
      "164262:164262\n",
      "Orbit 1991\n",
      "262569:262684\n",
      "Orbit 1952\n"
     ]
    },
    {
     "name": "stdout",
     "output_type": "stream",
     "text": [
      "257512:257633\n",
      "Orbit 3837\n",
      "487928:488047\n",
      "Orbit 1238\n",
      "174026:174027\n",
      "Orbit 3815\n"
     ]
    },
    {
     "name": "stdout",
     "output_type": "stream",
     "text": [
      "485395:485496\n"
     ]
    }
   ],
   "source": [
    "tIncremSeconds = 60*60\n",
    "for k in range(0,kappaRec.tmpOrb.size-1):\n",
    "    print(\"Orbit {}\".format(kappaRec.tmpOrb[k]))\n",
    "    # tmpInds = ((omni.mag_utc > (t1UTC[k]-tIncremSeconds)) & (omni.mag_utc < (t2UTC[k]+tIncremSeconds)))\n",
    "    # print(omni.mag_utc[tmpInds].size)\n",
    "    tmpIndStart=np.argmin(np.abs(omni.mag_utc-(t1UTC[k]-tIncremSeconds)))\n",
    "    tmpIndStop=np.argmin(np.abs(omni.mag_utc-(t2UTC[k]+tIncremSeconds)))\n",
    "    print(\"{}:{}\".format(tmpIndStart,tmpIndStop))"
   ]
  }
 ],
 "metadata": {
  "kernelspec": {
   "display_name": "Python 3",
   "name": "python3"
  },
  "name": "journal__20180313__plot_imf_conditions_during_interesting_dawnsector_orbits.ipynb"
 },
 "nbformat": 4,
 "nbformat_minor": 2
}
