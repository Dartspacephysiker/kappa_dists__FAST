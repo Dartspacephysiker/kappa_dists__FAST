{
 "cells": [
  {
   "cell_type": "code",
   "execution_count": 1,
   "metadata": {
    "autoscroll": false,
    "collapsed": false,
    "ein.tags": "worksheet-0",
    "slideshow": {
     "slide_type": "-"
    }
   },
   "outputs": [
    {
     "name": "stdout",
     "output_type": "stream",
     "text": [
      "['/home/spencerh/python/hatch_python_utils/', '', '/usr/lib/python35.zip', '/usr/lib/python3.5', '/usr/lib/python3.5/plat-x86_64-linux-gnu', '/usr/lib/python3.5/lib-dynload', '/usr/local/lib/python3.5/dist-packages', '/usr/lib/python3/dist-packages', '/usr/local/lib/python3.5/dist-packages/IPython/extensions', '/home/spencerh/.ipython', '/home/spencerh/.emacs.d/elpa/ein-20180227.625/']\n"
     ]
    }
   ],
   "source": [
    "import sys\n",
    "import os\n",
    "import datetime\n",
    "import calendar\n",
    "import numpy as np\n",
    "# for a in os.environ:\n",
    "#     print(a)\n",
    "sys.path.insert(0,'/home/spencerh/python/hatch_python_utils/')\n",
    "#sys.path\n",
    "print(sys.path)"
   ]
  },
  {
   "cell_type": "code",
   "execution_count": 2,
   "metadata": {
    "autoscroll": false,
    "collapsed": false,
    "ein.tags": "worksheet-0",
    "slideshow": {
     "slide_type": "-"
    }
   },
   "outputs": [
    {
     "name": "stdout",
     "output_type": "stream",
     "text": [
      "Opening culled_OMNI_magdata.dat ...\n"
     ]
    },
    {
     "name": "stdout",
     "output_type": "stream",
     "text": [
      "--------------------------------------------------\n",
      "Date: Fri May  6 16:53:37 2016\n",
      "User: spencerh\n",
      "Host: thelonious.dartmouth.edu\n",
      "--------------------------------------------------\n",
      "Format: 12\n",
      "Architecture: x86_64\n",
      "Operating System: linux\n",
      "IDL Version: 8.4\n",
      "--------------------------------------------------\n",
      "Successfully read 20 records of which:\n",
      " - 1 are of type TIMESTAMP\n",
      " - 17 are of type VARIABLE\n",
      " - 1 are of type VERSION\n",
      "--------------------------------------------------\n",
      "Available variables:\n",
      " - cone_overclock_gse [<class 'numpy.ndarray'>]\n",
      " - cone_overclock_gsm [<class 'numpy.ndarray'>]\n",
      " - thetacone_gsm [<class 'numpy.ndarray'>]\n",
      " - mag_utc [<class 'numpy.ndarray'>]\n",
      " - phiclock_gse [<class 'numpy.ndarray'>]\n",
      " - phiclock_gsm [<class 'numpy.ndarray'>]\n",
      " - goodmag_goodtimes_i [<class 'numpy.ndarray'>]\n",
      " - bz_gse [<class 'numpy.ndarray'>]\n",
      " - bxy_over_bz_gse [<class 'numpy.ndarray'>]\n",
      " - bxy_over_bz_gsm [<class 'numpy.ndarray'>]\n",
      " - bt_gsm [<class 'numpy.ndarray'>]\n",
      " - bx [<class 'numpy.ndarray'>]\n",
      " - by_gsm [<class 'numpy.ndarray'>]\n",
      " - by_gse [<class 'numpy.ndarray'>]\n",
      " - bz_gsm [<class 'numpy.ndarray'>]\n",
      " - bt_gse [<class 'numpy.ndarray'>]\n",
      " - thetacone_gse [<class 'numpy.ndarray'>]\n",
      "--------------------------------------------------\n"
     ]
    }
   ],
   "source": [
    "import omni_utils\n",
    "omni = omni_utils.load_omniDB()"
   ]
  },
  {
   "cell_type": "code",
   "execution_count": 43,
   "metadata": {
    "autoscroll": false,
    "collapsed": false,
    "ein.tags": "worksheet-0",
    "slideshow": {
     "slide_type": "-"
    }
   },
   "outputs": [
    {
     "data": {
      "text/plain": [
       "'23:11:49'"
      ]
     },
     "execution_count": 43,
     "metadata": {},
     "output_type": "execute_result"
    }
   ],
   "source": [
    "kappaRec.t2Str[1]"
   ]
  },
  {
   "cell_type": "code",
   "execution_count": 24,
   "metadata": {
    "autoscroll": false,
    "collapsed": false,
    "ein.tags": "worksheet-0",
    "slideshow": {
     "slide_type": "-"
    }
   },
   "outputs": [
    {
     "name": "stdout",
     "output_type": "stream",
     "text": [
      "838857600.0\n",
      "1996-07-31 20:00:00\n",
      "838857600.0\n",
      "1996-07-31 20:00:00\n"
     ]
    }
   ],
   "source": [
    "# As seconds since 1970:\n",
    "print(omni.mag_utc[0])\n",
    "# As nicely formatted thing:\n",
    "print(datetime.datetime.fromtimestamp(omni.mag_utc[0]))\n",
    "# Convert from datetime to UTC\n",
    "print(datetime.datetime.fromtimestamp(omni.mag_utc[0],tz=datetime.timezone.utc).replace(tzinfo=datetime.timezone.utc).timestamp())\n",
    "# And then back\n",
    "print(datetime.datetime.fromtimestamp(838857600.0))"
   ]
  },
  {
   "cell_type": "code",
   "execution_count": 39,
   "metadata": {
    "autoscroll": false,
    "collapsed": false,
    "ein.tags": "worksheet-0",
    "slideshow": {
     "slide_type": "-"
    }
   },
   "outputs": [],
   "source": [
    "# Read in the ol' txtFile\n",
    "kappaTxtFile='/SPENCEdata/Research/Satellites/FAST/espec_identification/txtOutput/20180312--mono_aurora_streaks__3-9MLT__1000-3999ORB__300-4300ALT__minTStreak_sec_60.txt'\n",
    "kappaFmt=np.dtype([('tmpOrb',np.int32),('MLT',np.float64),('ILAT',np.float64),('ALT',np.float64),('t1Str',np.unicode_,19),('t2Str',np.unicode_,8),('t_streakLen',np.int32),('nPts',np.int32),('dt_avg',np.float64),('avg_current',np.float64)])\n",
    "kappaInfo = np.genfromtxt(kappaTxtFile,dtype=kappaFmt,skip_header=1)\n",
    "kappaRec = np.rec.array(kappaInfo)"
   ]
  },
  {
   "cell_type": "code",
   "execution_count": 93,
   "metadata": {
    "autoscroll": false,
    "collapsed": false,
    "ein.tags": "worksheet-0",
    "slideshow": {
     "slide_type": "-"
    }
   },
   "outputs": [],
   "source": [
    "t2Str = kappaRec.t2Str\n",
    "t1Str = kappaRec.t1Str\n",
    "\n",
    "# See if we can do substrings\n",
    "# this = [x[0:11] for x in t1Str]\n",
    "# print(this)\n",
    "#this?\n",
    "\n",
    "# Yup, now combine 'em all\n",
    "this = [\"{}{}\".format(t1_[0:11],t2_) for t1_, t2_ in zip(t1Str,t2Str)]\n",
    "\n",
    "# Print 'em for kicks\n",
    "# for t1, t2 in zip(t1Str,this):\n",
    "#     print(t1,\", \",t2)\n",
    "\n",
    "# And convert to datetime objects\n",
    "t1s=[datetime.datetime.strptime(t1,'%Y-%m-%d/%H:%M:%S') for t1 in t1Str]\n",
    "t2s=[datetime.datetime.strptime(t2,'%Y-%m-%d/%H:%M:%S') for t2 in this]\n",
    "\n",
    "# Does it all work? Looks like the answer is 'yes'\n",
    "# for t1,t2,bros in zip(t1s,t2s,kappaRec.t_streakLen):\n",
    "#     print(t1,\",\",t2,\",\",t2-t1,\",\",bros)\n",
    "\n",
    "# Times before and after\n",
    "# tIncrem=datetime.timedelta(hours=1)\n",
    "# for t1 in t1s:\n",
    "#    print(t1-tIncrem,\", \",t1+tIncrem)\n",
    "\n",
    "t1UTC = [t1.timestamp() for t1 in t1s]\n",
    "t2UTC = [t2.timestamp() for t2 in t2s]"
   ]
  },
  {
   "cell_type": "code",
   "execution_count": null,
   "metadata": {
    "autoscroll": false,
    "collapsed": false,
    "ein.tags": "worksheet-0",
    "slideshow": {
     "slide_type": "-"
    }
   },
   "outputs": [],
   "source": [
    "tIncrem = 60\n"
   ]
  }
 ],
 "metadata": {
  "kernelspec": {
   "display_name": "Python 3",
   "name": "python3"
  },
  "name": "journal__20180313__plot_imf_conditions_during_interesting_dawnsector_orbits.ipynb"
 },
 "nbformat": 4,
 "nbformat_minor": 2
}
