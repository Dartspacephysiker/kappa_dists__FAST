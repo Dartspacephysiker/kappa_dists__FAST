{
 "cells": [
  {
   "cell_type": "code",
   "execution_count": 111,
   "metadata": {
    "autoscroll": false,
    "collapsed": false,
    "ein.tags": "worksheet-0",
    "slideshow": {
     "slide_type": "-"
    }
   },
   "outputs": [],
   "source": [
    "# Import hdf reader, declare directory and files\n",
    "import h5py\n",
    "import numpy as np\n",
    "import pandas\n",
    "import time\n",
    "dir='/SPENCEdata/Research/database/DMSP/20071227/'\n",
    "file1='dms_20071227_16e.001__Baddeley_et_al_2007.hdf5'\n",
    "file2='dms_20071227_16s1.001__Baddeley_et_al_2007.hdf5'\n",
    "file3='dms_20071227_16s4.001__Baddeley_et_al_2007.hdf5'"
   ]
  },
  {
   "cell_type": "code",
   "execution_count": 14,
   "metadata": {
    "autoscroll": false,
    "collapsed": false,
    "ein.tags": "worksheet-0",
    "slideshow": {
     "slide_type": "-"
    }
   },
   "outputs": [],
   "source": [
    "# Open file\n",
    "f1 = h5py.File(dir+file1, 'r')"
   ]
  },
  {
   "cell_type": "code",
   "execution_count": 16,
   "metadata": {
    "autoscroll": false,
    "collapsed": false,
    "ein.tags": "worksheet-0",
    "slideshow": {
     "slide_type": "-"
    }
   },
   "outputs": [
    {
     "name": "stdout",
     "output_type": "stream",
     "text": [
      "Keys: [u'Data', u'Metadata']\n"
     ]
    }
   ],
   "source": [
    "print(\"Keys: %s\" % f1.keys())"
   ]
  },
  {
   "cell_type": "code",
   "execution_count": 27,
   "metadata": {
    "autoscroll": false,
    "collapsed": false,
    "ein.tags": "worksheet-0",
    "slideshow": {
     "slide_type": "-"
    }
   },
   "outputs": [
    {
     "name": "stdout",
     "output_type": "stream",
     "text": [
      "[u'Data', u'Metadata']\n"
     ]
    }
   ],
   "source": [
    "group_keys = f1.keys()\n",
    "print(group_keys)"
   ]
  },
  {
   "cell_type": "code",
   "execution_count": 29,
   "metadata": {
    "autoscroll": false,
    "collapsed": false,
    "ein.tags": "worksheet-0",
    "slideshow": {
     "slide_type": "-"
    }
   },
   "outputs": [],
   "source": [
    "data1 = f1['Data']\n",
    "mData1 = f1['Metadata']"
   ]
  },
  {
   "cell_type": "code",
   "execution_count": 31,
   "metadata": {
    "autoscroll": false,
    "collapsed": false,
    "ein.tags": "worksheet-0",
    "slideshow": {
     "slide_type": "-"
    }
   },
   "outputs": [
    {
     "data": {
      "text/plain": [
       "u'/Data'"
      ]
     },
     "execution_count": 31,
     "metadata": {},
     "output_type": "execute_result"
    }
   ],
   "source": [
    "data1.shape"
   ]
  },
  {
   "cell_type": "code",
   "execution_count": 55,
   "metadata": {
    "autoscroll": false,
    "collapsed": false,
    "ein.tags": "worksheet-0",
    "slideshow": {
     "slide_type": "-"
    }
   },
   "outputs": [
    {
     "name": "stdout",
     "output_type": "stream",
     "text": [
      "Array Layout\n",
      "Table Layout\n"
     ]
    }
   ],
   "source": [
    "for name in data1:\n",
    "    print name\n",
    "table1 = data1.get('Table Layout')\n",
    "array1 = data1.get('Array Layout')"
   ]
  },
  {
   "cell_type": "code",
   "execution_count": 54,
   "metadata": {
    "autoscroll": false,
    "collapsed": false,
    "ein.tags": "worksheet-0",
    "slideshow": {
     "slide_type": "-"
    }
   },
   "outputs": [
    {
     "name": "stdout",
     "output_type": "stream",
     "text": [
      "<h5py.h5d.DatasetID object at 0x7f1b2d278628>\n",
      "<Dimensions of HDF5 object at 139754698409512>\n",
      "<HDF5 file \"dms_20071227_16e.001__Baddeley_et_al_2007.hdf5\" (mode r)>\n",
      "/Data/Table Layout\n",
      "<Attributes of HDF5 object at 139754698409512>\n"
     ]
    }
   ],
   "source": [
    "# Table1 properties\n",
    "print(table1.id)\n",
    "print(table1.dims)\n",
    "print(table1.file)\n",
    "print(table1.name)\n",
    "print(table1.attrs)"
   ]
  },
  {
   "cell_type": "code",
   "execution_count": 59,
   "metadata": {
    "autoscroll": false,
    "collapsed": false,
    "ein.tags": "worksheet-0",
    "slideshow": {
     "slide_type": "-"
    }
   },
   "outputs": [
    {
     "name": "stdout",
     "output_type": "stream",
     "text": [
      "1D Parameters\n",
      "2D Parameters\n",
      "Layout Description\n",
      "ch_energy\n",
      "timestamps\n"
     ]
    }
   ],
   "source": [
    "# array1 properties\n",
    "for name in array1:\n",
    "    print name\n",
    "parm1ds = array1.get('1D Parameters')\n",
    "parm2ds = array1.get('2D Parameters')\n",
    "layoutDescr = array1.get('Layout Description')\n",
    "ch_energy =  array1.get('ch_energy')\n",
    "timestamps =  array1.get('timestamps')"
   ]
  },
  {
   "cell_type": "code",
   "execution_count": 91,
   "metadata": {
    "autoscroll": false,
    "collapsed": false,
    "ein.tags": "worksheet-0",
    "slideshow": {
     "slide_type": "-"
    }
   },
   "outputs": [
    {
     "name": "stdout",
     "output_type": "stream",
     "text": [
      "(0, u'Data Parameters', (13,), dtype([('mnemonic', 'S10'), ('description', 'S39'), ('isError', '<i8'), ('units', 'S7'), ('category', 'S36')]))\n",
      "(1, u'el_i_ener', (86400,), dtype('float64'))\n",
      "(2, u'el_i_flux', (86400,), dtype('float64'))\n",
      "(3, u'el_m_ener', (86400,), dtype('float64'))\n",
      "(4, u'gdalt', (86400,), dtype('float64'))\n",
      "(5, u'gdlat', (86400,), dtype('float64'))\n",
      "(6, u'glon', (86400,), dtype('float64'))\n",
      "(7, u'ion_i_ener', (86400,), dtype('float64'))\n",
      "(8, u'ion_i_flux', (86400,), dtype('float64'))\n",
      "(9, u'ion_m_ener', (86400,), dtype('float64'))\n",
      "(10, u'mlat', (86400,), dtype('float64'))\n",
      "(11, u'mlong', (86400,), dtype('float64'))\n",
      "(12, u'mlt', (86400,), dtype('float64'))\n",
      "(13, u'sat_id', (86400,), dtype('int64'))\n"
     ]
    }
   ],
   "source": [
    "# show members of parm1ds\n",
    "k=0\n",
    "for name in parm1ds:\n",
    "    print(k,name,parm1ds.get(name).shape,parm1ds.get(name).dtype)\n",
    "    # print(name)\n",
    "    k += 1"
   ]
  },
  {
   "cell_type": "code",
   "execution_count": 79,
   "metadata": {
    "autoscroll": false,
    "collapsed": false,
    "ein.tags": "worksheet-0",
    "slideshow": {
     "slide_type": "-"
    }
   },
   "outputs": [],
   "source": [
    "parm1dsdtype=[('el_i_ener',np.float64),('el_i_flux',np.float64),('el_m_ener',np.float64),('gdalt',np.float64),('gdlat',np.float64),('glon',np.float64),('ion_i_ener',np.float64),('ion_i_flux',np.float64),('ion_m_ener',np.float64),('mlat',np.float64),('mlong',np.float64),('mlt',np.float64),('sat_id',np.float64)]"
   ]
  },
  {
   "cell_type": "code",
   "execution_count": 93,
   "metadata": {
    "autoscroll": false,
    "collapsed": false,
    "ein.tags": "worksheet-0",
    "slideshow": {
     "slide_type": "-"
    }
   },
   "outputs": [],
   "source": [
    "dmsp = np.recarray((86400,),dtype=parm1dsdtype)\n",
    "dmsp.el_i_ener = parm1ds.get('el_i_ener')\n",
    "dmsp.el_i_flux = parm1ds.get('el_i_flux')\n",
    "dmsp.el_m_ener = parm1ds.get('el_m_ener')\n",
    "dmsp.gdalt = parm1ds.get('gdalt')\n",
    "dmsp.gdlat = parm1ds.get('gdlat')\n",
    "dmsp.glon = parm1ds.get('glon')\n",
    "dmsp.ion_i_ener = parm1ds.get('ion_i_ener')\n",
    "dmsp.ion_i_flux = parm1ds.get('ion_i_flux')\n",
    "dmsp.ion_m_ener = parm1ds.get('ion_m_ener')\n",
    "dmsp.mlat = parm1ds.get('mlat')\n",
    "dmsp.mlong = parm1ds.get('mlong')\n",
    "dmsp.mlt = parm1ds.get('mlt')\n",
    "dmsp.sat_id = parm1ds.get('sat_id')"
   ]
  },
  {
   "cell_type": "code",
   "execution_count": 109,
   "metadata": {
    "autoscroll": false,
    "collapsed": false,
    "ein.tags": "worksheet-0",
    "slideshow": {
     "slide_type": "-"
    }
   },
   "outputs": [],
   "source": [
    "# Now define t2s function\n",
    "def t2s(x): return time.strftime(\"%Y-%m-%d/%H:%M:%S\", time.gmtime(x))"
   ]
  },
  {
   "cell_type": "code",
   "execution_count": 112,
   "metadata": {
    "autoscroll": false,
    "collapsed": false,
    "ein.tags": "worksheet-0",
    "slideshow": {
     "slide_type": "-"
    }
   },
   "outputs": [
    {
     "name": "stdout",
     "output_type": "stream",
     "text": [
      "2007-12-27/00:00:00\n",
      "2007-12-27/00:00:01\n"
     ]
    }
   ],
   "source": [
    "# Can we convert timestamps to strings?\n",
    "for i in range(0,2):\n",
    "    # print(time.strftime(\"%Y-%m-%d/%H:%M:%S\", time.gmtime(timestamps[i])))\n",
    "    print(t2s(timestamps[i]))"
   ]
  },
  {
   "cell_type": "code",
   "execution_count": 121,
   "metadata": {
    "autoscroll": false,
    "collapsed": false,
    "ein.tags": "worksheet-0",
    "slideshow": {
     "slide_type": "-"
    }
   },
   "outputs": [
    {
     "name": "stdout",
     "output_type": "stream",
     "text": [
      "First : 2007-12-27/00:00:00\n",
      "Last  : 2007-12-27/00:00:00\n"
     ]
    }
   ],
   "source": [
    "# Try mapping\n",
    "tStampStr = list(map(t2s,timestamps))"
   ]
  },
  {
   "cell_type": "code",
   "execution_count": 122,
   "metadata": {
    "autoscroll": false,
    "collapsed": false,
    "ein.tags": "worksheet-0",
    "slideshow": {
     "slide_type": "-"
    }
   },
   "outputs": [
    {
     "name": "stdout",
     "output_type": "stream",
     "text": [
      "First : 2007-12-27/00:00:00\n",
      "Last  : 2007-12-27/23:59:58\n"
     ]
    }
   ],
   "source": [
    "print(\"First : \" + tStampStr[0])\n",
    "print(\"Last  : \" + tStampStr[-1])"
   ]
  },
  {
   "cell_type": "code",
   "execution_count": 138,
   "metadata": {
    "autoscroll": false,
    "collapsed": false,
    "ein.tags": "worksheet-0",
    "slideshow": {
     "slide_type": "-"
    }
   },
   "outputs": [],
   "source": [
    "# Hmm, those seem all right. So where is the diff greater than one second?\n",
    "tDiff = timestamps[1:-1]-timestamps[0:-2]\n",
    "gt1Ind = ((tDiff > 1).ravel().nonzero())[0]"
   ]
  },
  {
   "cell_type": "code",
   "execution_count": 142,
   "metadata": {
    "autoscroll": false,
    "collapsed": false,
    "ein.tags": "worksheet-0",
    "slideshow": {
     "slide_type": "-"
    }
   },
   "outputs": [
    {
     "data": {
      "text/plain": [
       "array([21848, 43196, 46724, 46742, 46760, 46763, 46777, 46780, 46790,\n       46793, 46796, 46804, 46805, 46808, 46811, 48546, 74794, 82225])"
      ]
     },
     "execution_count": 142,
     "metadata": {},
     "output_type": "execute_result"
    }
   ],
   "source": [
    "gt1Ind"
   ]
  },
  {
   "cell_type": "code",
   "execution_count": 146,
   "metadata": {
    "autoscroll": false,
    "collapsed": false,
    "ein.tags": "worksheet-0",
    "slideshow": {
     "slide_type": "-"
    }
   },
   "outputs": [
    {
     "name": "stdout",
     "output_type": "stream",
     "text": [
      "(2.0, '2007-12-27/06:04:08', '2007-12-27/06:04:10')\n",
      "(3.0, '2007-12-27/11:59:57', '2007-12-27/12:00:00')\n",
      "(2.0, '2007-12-27/12:58:47', '2007-12-27/12:58:49')\n",
      "(2.0, '2007-12-27/12:59:06', '2007-12-27/12:59:08')\n",
      "(2.0, '2007-12-27/12:59:25', '2007-12-27/12:59:27')\n",
      "(2.0, '2007-12-27/12:59:29', '2007-12-27/12:59:31')\n",
      "(2.0, '2007-12-27/12:59:44', '2007-12-27/12:59:46')\n",
      "(2.0, '2007-12-27/12:59:48', '2007-12-27/12:59:50')\n",
      "(2.0, '2007-12-27/12:59:59', '2007-12-27/13:00:01')\n",
      "(2.0, '2007-12-27/13:00:03', '2007-12-27/13:00:05')\n",
      "(2.0, '2007-12-27/13:00:07', '2007-12-27/13:00:09')\n",
      "(2.0, '2007-12-27/13:00:16', '2007-12-27/13:00:18')\n",
      "(2.0, '2007-12-27/13:00:18', '2007-12-27/13:00:20')\n",
      "(2.0, '2007-12-27/13:00:22', '2007-12-27/13:00:24')\n",
      "(2.0, '2007-12-27/13:00:26', '2007-12-27/13:00:28')\n",
      "(2.0, '2007-12-27/13:29:22', '2007-12-27/13:29:24')\n",
      "(2.0, '2007-12-27/20:46:51', '2007-12-27/20:46:53')\n"
     ]
    }
   ],
   "source": [
    "# Now see the diff\n",
    "for k in range(0,gt1Ind.size-1):\n",
    "    print(tDiff[gt1Ind[k]],tStampStr[gt1Ind[k]],tStampStr[gt1Ind[k]+1])"
   ]
  }
 ],
 "metadata": {
  "kernelspec": {
   "display_name": "Python 2",
   "name": "python2"
  },
  "name": "journal__20180308__open_Baddeley_dmsp_hdf5_files__can_he_do_it.ipynb"
 },
 "nbformat": 4,
 "nbformat_minor": 2
}
